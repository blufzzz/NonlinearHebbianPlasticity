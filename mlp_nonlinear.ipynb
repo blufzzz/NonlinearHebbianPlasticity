{
 "cells": [
  {
   "cell_type": "code",
   "execution_count": 1,
   "id": "b8c59344",
   "metadata": {},
   "outputs": [],
   "source": [
    "%load_ext autoreload \n",
    "\n",
    "from tqdm import tqdm\n",
    "import matplotlib.pyplot as plt\n",
    "import plotly.express as px\n",
    "import numpy as np\n",
    "from easydict import EasyDict as edict\n",
    "import pandas as pd\n",
    "import os\n",
    "from collections import defaultdict\n",
    "from joblib import Parallel, delayed\n",
    "import multiprocessing as mp\n",
    "from IPython.core.debugger import set_trace\n",
    "from IPython.display import clear_output\n",
    "\n",
    "from scipy.signal import convolve2d, convolve\n",
    "from scipy.signal.windows import blackman, gaussian\n",
    "import copy\n",
    "\n",
    "from sklearn.manifold import TSNE\n",
    "from sklearn.decomposition import PCA, KernelPCA, FastICA\n",
    "from sklearn.metrics import r2_score, make_scorer\n",
    "from sklearn.linear_model import Ridge, Lasso, LinearRegression\n",
    "from sklearn.preprocessing import MinMaxScaler, StandardScaler, RobustScaler\n",
    "from sklearn.model_selection import cross_val_score, train_test_split\n",
    "from sklearn.datasets import make_swiss_roll,\\\n",
    "                             make_s_curve,\\\n",
    "                             make_moons\n",
    "\n",
    "from umap import UMAP\n",
    "\n",
    "import torch\n",
    "from torch import nn\n",
    "from torch import optim\n",
    "from torch import autograd\n",
    "\n",
    "from torch.utils.data import DataLoader\n",
    "\n",
    "from train_utils import get_capacity, plot_weights_hist, train, get_grad_params\n",
    "from metric_utils import calculate_Q_metrics, \\\n",
    "                         strain, \\\n",
    "                         l2_loss, \\\n",
    "                         to_numpy, \\\n",
    "                         numpy_metric, \\\n",
    "                         cosine_sim\n",
    "\n",
    "from input_utils import DataGenerator, make_random_affine\n",
    "from models_utils import MLP_NonlinearEncoder, \\\n",
    "                         init_weights, \\\n",
    "                         universal_approximator, \\\n",
    "                         dJ_criterion, \\\n",
    "                         gained_function, \\\n",
    "                         adjust_learning_rate, \\\n",
    "                         compute_joint_probabilities, \\\n",
    "                         tsne_loss,\\\n",
    "                         tsne_criterion, \\\n",
    "                         sigmoid, \\\n",
    "                         initialize_nonlinearities\n",
    "\n",
    "from embedding_utils import ConstructUMAPGraph, UMAPLoss, UMAPDataset, umap_criterion_compatibility\n",
    "\n",
    "from pynndescent import NNDescent\n",
    "from umap.umap_ import fuzzy_simplicial_set, make_epochs_per_sample\n",
    "from sklearn.utils import check_random_state\n",
    "\n",
    "import pygad\n",
    "from torchga import TorchGA, model2vector, vector2model\n",
    "\n",
    "import warnings\n",
    "warnings.filterwarnings(\"ignore\")\n",
    "\n",
    "plt.rcParams['font.size'] = 20\n",
    "device = torch.device('cuda:0')\n",
    "N_CPU = mp.cpu_count()\n",
    "SEED = 42\n",
    "%autoreload 2"
   ]
  },
  {
   "cell_type": "markdown",
   "id": "25495a50",
   "metadata": {},
   "source": [
    "# Load data "
   ]
  },
  {
   "cell_type": "code",
   "execution_count": 2,
   "id": "e09ed566",
   "metadata": {},
   "outputs": [],
   "source": [
    "SCALER = StandardScaler()\n",
    "\n",
    "input_parameters = {'generator': make_swiss_roll, #make_s_curve, \n",
    "                    'generator_kwargs': {'n_samples':10000, 'noise':1e-2}, # 1e-1\n",
    "                    'unsupervised':True,\n",
    "                    'whiten':True,\n",
    "                    'scaler':SCALER,\n",
    "                    'use_outpt_color':True} \n",
    "\n",
    "create_data = DataGenerator(**input_parameters)\n",
    "\n",
    "inpt, _, color = create_data()\n",
    "\n",
    "N_TEST = 1000"
   ]
  },
  {
   "cell_type": "code",
   "execution_count": 3,
   "id": "ae80af2a",
   "metadata": {},
   "outputs": [
    {
     "data": {
      "text/plain": [
       "(array([-2.98427949e-17,  1.88116189e-16, -1.63424829e-17]),\n",
       " array([1., 1., 1.]))"
      ]
     },
     "execution_count": 3,
     "metadata": {},
     "output_type": "execute_result"
    }
   ],
   "source": [
    "inpt.mean(1), inpt.std(1)"
   ]
  },
  {
   "cell_type": "code",
   "execution_count": 4,
   "id": "8b7cb575",
   "metadata": {},
   "outputs": [
    {
     "data": {
      "text/plain": [
       "(array([1.60772378, 1.74640626, 1.9881272 ]),\n",
       " array([-1.72833675, -1.71170231, -1.61472201]),\n",
       " array([[ 1.        ,  0.00978307,  0.10300087],\n",
       "        [ 0.00978307,  1.        , -0.00312192],\n",
       "        [ 0.10300087, -0.00312192,  1.        ]]))"
      ]
     },
     "execution_count": 4,
     "metadata": {},
     "output_type": "execute_result"
    }
   ],
   "source": [
    "inpt.max(1), inpt.min(1), inpt@inpt.T / inpt.shape[1]"
   ]
  },
  {
   "cell_type": "code",
   "execution_count": 5,
   "id": "15d81042",
   "metadata": {},
   "outputs": [],
   "source": [
    "inpt_train, inpt_test, color_train, color_test = train_test_split(inpt.T, \n",
    "                                                                  color, \n",
    "                                                                  random_state=42,\n",
    "                                                                  test_size=N_TEST)"
   ]
  },
  {
   "cell_type": "code",
   "execution_count": 6,
   "id": "424bf21f",
   "metadata": {},
   "outputs": [],
   "source": [
    "inpt_train_torch = torch.tensor(inpt_train, dtype=torch.float32).to(device)\n",
    "inpt_test_torch = torch.tensor(inpt_test, dtype=torch.float32).to(device)"
   ]
  },
  {
   "cell_type": "code",
   "execution_count": 7,
   "id": "4888568e",
   "metadata": {},
   "outputs": [
    {
     "data": {
      "text/plain": [
       "tensor([[1., 0., 0.],\n",
       "        [0., 1., -0.],\n",
       "        [0., -0., 1.]], device='cuda:0')"
      ]
     },
     "execution_count": 7,
     "metadata": {},
     "output_type": "execute_result"
    }
   ],
   "source": [
    "(inpt_train_torch.T@inpt_train_torch / inpt_train_torch.shape[0]).round()"
   ]
  },
  {
   "cell_type": "code",
   "execution_count": 8,
   "id": "0d5faa8a",
   "metadata": {},
   "outputs": [
    {
     "data": {
      "text/plain": [
       "(tensor([ 0.0006, -0.0022,  0.0009], device='cuda:0'),\n",
       " tensor([1.0013, 0.9994, 0.9986], device='cuda:0'))"
      ]
     },
     "execution_count": 8,
     "metadata": {},
     "output_type": "execute_result"
    }
   ],
   "source": [
    "inpt_train_torch.mean(0), inpt_train_torch.std(0)"
   ]
  },
  {
   "cell_type": "code",
   "execution_count": 9,
   "id": "445616e3",
   "metadata": {},
   "outputs": [
    {
     "data": {
      "text/plain": [
       "(torch.Size([9000, 3]), torch.Size([1000, 3]))"
      ]
     },
     "execution_count": 9,
     "metadata": {},
     "output_type": "execute_result"
    }
   ],
   "source": [
    "inpt_train_torch.shape, inpt_test_torch.shape"
   ]
  },
  {
   "cell_type": "code",
   "execution_count": 10,
   "id": "b358c1c5",
   "metadata": {
    "scrolled": true
   },
   "outputs": [],
   "source": [
    "# plt.ioff()\n",
    "# plt.figure()\n",
    "# df = pd.DataFrame(inpt.T, columns=['x','y', 'z'])\n",
    "# if color is not None:\n",
    "#     df['target'] = color\n",
    "# fig = px.scatter_3d(df, x='x', y='y', z='z', color='target' if 'target' in df else None)\n",
    "\n",
    "# fig.show()"
   ]
  },
  {
   "cell_type": "markdown",
   "id": "d3815cdd",
   "metadata": {},
   "source": [
    "# PCA"
   ]
  },
  {
   "cell_type": "code",
   "execution_count": 11,
   "id": "659c2b65",
   "metadata": {},
   "outputs": [],
   "source": [
    "N_CYCLES = 1\n",
    "data = [create_data()  for _ in range(N_CYCLES)]\n",
    "inpt_data = np.concatenate([d[0] for d in data],-1)\n",
    "outpt_data = np.concatenate([d[1] for d in data],-1)"
   ]
  },
  {
   "cell_type": "code",
   "execution_count": 12,
   "id": "f7628884",
   "metadata": {},
   "outputs": [
    {
     "name": "stdout",
     "output_type": "stream",
     "text": [
      "3\n"
     ]
    },
    {
     "data": {
      "image/png": "[encoded data removed]",
      "text/plain": [
       "<Figure size 432x288 with 1 Axes>"
      ]
     },
     "metadata": {
      "needs_background": "light"
     },
     "output_type": "display_data"
    }
   ],
   "source": [
    "pca = PCA()\n",
    "Z_pca = pca.fit_transform(inpt_data.T)\n",
    "pca_ev = np.cumsum(pca.explained_variance_ratio_)\n",
    "print((np.arange(1,inpt_data.shape[0]+1)[pca_ev > 0.99])[0])\n",
    "plt.plot(pca_ev)\n",
    "plt.show()"
   ]
  },
  {
   "cell_type": "code",
   "execution_count": 13,
   "id": "efab53e5",
   "metadata": {},
   "outputs": [],
   "source": [
    "# plt.scatter(Z_pca[:,0], Z_pca[:,1], c=outpt_data[0])\n",
    "# plt.colorbar()"
   ]
  },
  {
   "cell_type": "code",
   "execution_count": 86,
   "id": "f7380b90",
   "metadata": {},
   "outputs": [],
   "source": [
    "# Z_pca_test = pca.transform(inpt_test.T)\n",
    "# plt.scatter(Z_pca_test[:,0], Z_pca_test[:,1], c=outpt_test[0])\n",
    "# plt.colorbar()"
   ]
  },
  {
   "cell_type": "code",
   "execution_count": 87,
   "id": "c064aafd",
   "metadata": {},
   "outputs": [],
   "source": [
    "# umap = UMAP(n_components=2, n_neighbors=50, n_jobs=1)\n",
    "# Z = umap.fit_transform(inpt_data.T)\n",
    "# Z_test = umap.transform(inpt_test.T)"
   ]
  },
  {
   "cell_type": "code",
   "execution_count": 88,
   "id": "dbd15668",
   "metadata": {},
   "outputs": [],
   "source": [
    "# plt.scatter(Z[:,0], Z[:,1], c=outpt_data[0])\n",
    "# plt.colorbar()"
   ]
  },
  {
   "cell_type": "code",
   "execution_count": 89,
   "id": "2a07328f",
   "metadata": {},
   "outputs": [],
   "source": [
    "# plt.scatter(Z_test[:,0], Z_test[:,1], c=outpt_test[0])\n",
    "# plt.colorbar()"
   ]
  },
  {
   "cell_type": "code",
   "execution_count": 90,
   "id": "7314fd72",
   "metadata": {},
   "outputs": [],
   "source": [
    "# Q_loc_val_UMAP, Q_glob_val_UMAP = calculate_Q_metrics(inpt_test.T, Z_test)"
   ]
  },
  {
   "cell_type": "code",
   "execution_count": 91,
   "id": "fbb08923",
   "metadata": {},
   "outputs": [],
   "source": [
    "# Q_loc_val_UMAP, Q_glob_val_UMAP"
   ]
  },
  {
   "cell_type": "code",
   "execution_count": 261,
   "id": "69d32e07",
   "metadata": {},
   "outputs": [],
   "source": [
    "# X,y = inpt_data.T, outpt_data[0]\n",
    "# # X,y = Z, outpt_data[0]\n",
    "\n",
    "# est = Ridge(alpha=0, fit_intercept=False)\n",
    "# cross_val_score(est, X, y, scoring=make_scorer(r2_score))"
   ]
  },
  {
   "cell_type": "code",
   "execution_count": 262,
   "id": "0bb3edaf",
   "metadata": {},
   "outputs": [],
   "source": [
    "# est.fit(X, y)\n",
    "# r2_score(y, est.predict(X))"
   ]
  },
  {
   "cell_type": "code",
   "execution_count": 270,
   "id": "4ad33f04",
   "metadata": {},
   "outputs": [],
   "source": [
    "# output_sort = np.argsort(y)\n",
    "# plt.plot(y[output_sort])\n",
    "# plt.plot(est.predict(X)[output_sort], alpha=0.5)"
   ]
  },
  {
   "cell_type": "code",
   "execution_count": 113,
   "id": "b760c01e",
   "metadata": {},
   "outputs": [],
   "source": [
    "# perplexities = [10,20,30,40]\n",
    "\n",
    "# plt.figure(figsize=(20,5))\n",
    "# for i,perplexity in enumerate(perplexities):\n",
    "#     Z_tsne = TSNE(perplexity=perplexity).fit_transform(inpt.T)\n",
    "#     ax = plt.subplot(1,len(perplexities),i+1)\n",
    "#     ax.scatter(Z_tsne[:,0], Z_tsne[:,1], c=outp[0])\n",
    "#     ax.set_title(f'{perplexity}')\n",
    "# plt.tight_layout()\n",
    "# plt.show()"
   ]
  },
  {
   "cell_type": "markdown",
   "id": "8da621cd",
   "metadata": {},
   "source": [
    "# Train MLP"
   ]
  },
  {
   "cell_type": "code",
   "execution_count": 13,
   "id": "3fd6c86c",
   "metadata": {},
   "outputs": [],
   "source": [
    "# J_s = [get_k_th_moment(4)]\n",
    "# dJ_function = dJ_criterion(J_s)"
   ]
  },
  {
   "cell_type": "code",
   "execution_count": 142,
   "id": "a6a24349",
   "metadata": {},
   "outputs": [],
   "source": [
    "LEARNING_TYPE = 'BP' #'Criterion', 'BP'\n",
    "\n",
    "encoder_parameters = {\n",
    "                    'input_dim':inpt.shape[0],\n",
    "                    'hidden_dim':10,\n",
    "                    'embedding_dim':2,\n",
    "                    'add_readout':False,\n",
    "                    'parametrized_f':True,\n",
    "                    'W_requires_grad':True,\n",
    "                    'final_nonlinearity':False,\n",
    "                    'nonlinearity': universal_approximator,\n",
    "                    'f_kwargs':{'hidden_dim':10, 'requires_grad':True},\n",
    "#                     'nonlinearity': gained_function,\n",
    "#                     'f_kwargs':{'function':torch.tanh},\n",
    "                    'layers_number':2,\n",
    "                    'add_bn':False,\n",
    "                    'seed':None,\n",
    "                    'set_seed':False,\n",
    "                     }\n",
    "\n",
    "\n",
    "network = MLP_NonlinearEncoder(**encoder_parameters).to(device)"
   ]
  },
  {
   "cell_type": "code",
   "execution_count": 144,
   "id": "db8a7ab1",
   "metadata": {},
   "outputs": [
    {
     "name": "stdout",
     "output_type": "stream",
     "text": [
      "Net capacity: 260\n",
      "Parameters:\n",
      "W_s.0 torch.Size([10, 3]) requires_grad: True\n",
      "W_s.1 torch.Size([2, 10]) requires_grad: True\n",
      "f_s.0.theta1 torch.Size([10, 10]) requires_grad: True\n",
      "f_s.0.bias1 torch.Size([10, 10]) requires_grad: True\n",
      "f_s.0.theta2 torch.Size([1, 10]) requires_grad: True\n"
     ]
    },
    {
     "data": {
      "image/png": "[encoded data removed]",
      "text/plain": [
       "<Figure size 432x288 with 1 Axes>"
      ]
     },
     "metadata": {
      "needs_background": "light"
     },
     "output_type": "display_data"
    }
   ],
   "source": [
    "print('Net capacity:', get_capacity(network))\n",
    "print('Parameters:')\n",
    "\n",
    "for name, param in network.named_parameters():\n",
    "    print(name, param.shape, 'requires_grad:', param.requires_grad)\n",
    "#     plt.figure()\n",
    "    W = to_numpy(param.data)\n",
    "    plt.hist(W.flatten(),bins=20, alpha=0.5, label=f'{name}')\n",
    "#     W /= np.linalg.norm(W, axis=1, keepdims=True)\n",
    "#     print(W@W.T)\n",
    "plt.legend()\n",
    "plt.show()"
   ]
  },
  {
   "cell_type": "code",
   "execution_count": 145,
   "id": "a04b4902",
   "metadata": {
    "scrolled": true
   },
   "outputs": [
    {
     "data": {
      "text/plain": [
       "(2, 1000)"
      ]
     },
     "execution_count": 145,
     "metadata": {},
     "output_type": "execute_result"
    }
   ],
   "source": [
    "X_s = network.forward(inpt_test_torch)\n",
    "outpt_val_pred = to_numpy(X_s[-1])\n",
    "outpt_val_pred.shape"
   ]
  },
  {
   "cell_type": "code",
   "execution_count": 146,
   "id": "ada86950",
   "metadata": {},
   "outputs": [
    {
     "name": "stdout",
     "output_type": "stream",
     "text": [
      "torch.Size([10, 3])\n",
      "torch.Size([2, 10])\n"
     ]
    }
   ],
   "source": [
    "for W in network.W_s:\n",
    "    print(W.shape)"
   ]
  },
  {
   "cell_type": "code",
   "execution_count": 147,
   "id": "24898e80",
   "metadata": {},
   "outputs": [],
   "source": [
    "# network.hebbian_learning_step(X_s, # list of layer activations [L,T,d_k]\n",
    "#                               None, # readout\n",
    "#                               learning_type='Criterion',\n",
    "#                               learning_rate=1e-1,\n",
    "#                               weight_decay=0)"
   ]
  },
  {
   "cell_type": "code",
   "execution_count": 148,
   "id": "9e2e867c",
   "metadata": {},
   "outputs": [],
   "source": [
    "# plt.ioff()\n",
    "# plt.figure()\n",
    "# df = pd.DataFrame(outpt_val_pred.T, columns=['x','y', 'z'])\n",
    "# if color is not None:\n",
    "#     df['target'] = color_test\n",
    "# fig = px.scatter_3d(df, x='x', y='y', z='z', color='target' if 'target' in df else None)\n",
    "\n",
    "# fig.show()\n"
   ]
  },
  {
   "cell_type": "code",
   "execution_count": 149,
   "id": "eb2956a9",
   "metadata": {},
   "outputs": [
    {
     "data": {
      "image/png": "[encoded data removed]",
      "text/plain": [
       "<Figure size 432x288 with 1 Axes>"
      ]
     },
     "metadata": {
      "needs_background": "light"
     },
     "output_type": "display_data"
    }
   ],
   "source": [
    "plt.scatter(outpt_val_pred[0], outpt_val_pred[1], c=color_test)\n",
    "plt.show()"
   ]
  },
  {
   "cell_type": "markdown",
   "id": "c45fd0d7",
   "metadata": {},
   "source": [
    "### Setting criterion params"
   ]
  },
  {
   "cell_type": "code",
   "execution_count": 150,
   "id": "e54eb01e",
   "metadata": {},
   "outputs": [
    {
     "name": "stdout",
     "output_type": "stream",
     "text": [
      "Sat Jul  9 18:13:39 2022 Building RP forest with 10 trees\n",
      "Sat Jul  9 18:13:39 2022 NN descent for 13 iterations\n",
      "\t 1  /  13\n",
      "\t 2  /  13\n",
      "\tStopping threshold met -- exiting after 2 iterations\n",
      "Sat Jul  9 18:13:39 2022 Building RP forest with 7 trees\n",
      "Sat Jul  9 18:13:39 2022 NN descent for 10 iterations\n",
      "\t 1  /  10\n",
      "\t 2  /  10\n",
      "\tStopping threshold met -- exiting after 2 iterations\n"
     ]
    }
   ],
   "source": [
    "graph_constructor = ConstructUMAPGraph(metric='euclidean', \n",
    "                                        n_neighbors=15, \n",
    "                                        random_state=SEED)\n",
    "\n",
    "# (epochs_per_sample, head, tail, weight) \n",
    "train_graph_data = graph_constructor(inpt_train)\n",
    "test_graph_data = graph_constructor(inpt_test)\n",
    "\n",
    "BATCH_SIZE_BP = 10000\n",
    "\n",
    "dataset_train = UMAPDataset(inpt_train, *train_graph_data, device=device, batch_size=BATCH_SIZE_BP)\n",
    "dataset_test = UMAPDataset(inpt_test, *test_graph_data, device=device, batch_size=BATCH_SIZE_BP)\n",
    "\n",
    "criterion_umap = UMAPLoss(device=device, \n",
    "                         min_dist=0.1,\n",
    "                         negative_sample_rate=5,\n",
    "                         edge_weight=None,\n",
    "                         repulsion_strength=1.0)\n",
    "\n",
    "criterion = umap_criterion_compatibility(criterion_umap)"
   ]
  },
  {
   "cell_type": "code",
   "execution_count": 154,
   "id": "afb2158b",
   "metadata": {},
   "outputs": [
    {
     "data": {
      "text/plain": [
       "(102, 11)"
      ]
     },
     "execution_count": 154,
     "metadata": {},
     "output_type": "execute_result"
    }
   ],
   "source": [
    "len(dataset_train), len(dataset_test)"
   ]
  },
  {
   "cell_type": "code",
   "execution_count": 155,
   "id": "f290d5bb",
   "metadata": {},
   "outputs": [],
   "source": [
    "# X_s = network(input_batch)\n",
    "# criterion(X_s)"
   ]
  },
  {
   "cell_type": "code",
   "execution_count": 156,
   "id": "7f3c1ce2",
   "metadata": {},
   "outputs": [],
   "source": [
    "# network = MLP_NonlinearEncoder(**encoder_parameters).to(device)\n",
    "\n",
    "# STOPPING_CRITERION = lambda y_pred, y_true: 1 - get_pred_index(r2_score_torch, -1)(y_pred, y_true)\n",
    "# VAL_METRICS_REGRESSION = {'r2_score': get_pred_index(r2_score_torch, -1)}\n",
    "# CRITERION = lambda y_pred, y: -get_k_th_moment(4)(y_pred)\n",
    "# CRITERION = strain\n",
    "\n",
    "criterion_kwargs = defaultdict(dict)\n",
    "\n",
    "CRITERION = criterion\n",
    "\n",
    "criterion_kwargs['skip_train'] = False\n",
    "criterion_kwargs['skip_val'] = False\n",
    "\n",
    "# criterion_kwargs['val'] = {'P':P_test_torch, 'perplexity':PERPLEXITY}\n",
    "# criterion_kwargs['train'] = {'perplexity':PERPLEXITY}\n",
    "\n",
    "training_parameters = edict({'learning_type':LEARNING_TYPE,\\\n",
    "                               'lr':1e-3, # learning-rate \n",
    "                               'lr_theta':1e-3,\n",
    "                               'enable_grad_train':True,\n",
    "                               'enable_grad_val':False,\n",
    "                               'maxiter':1000, # maxiter\n",
    "                               'tol':1e-2, # loss tolerance for early stopping \n",
    "                               'wd':0, # weight-decay\n",
    "                               'shuffle':True, # shuffle data\n",
    "                               'progress_bar':True,\n",
    "                               'weight_saver':None,\n",
    "                               'calculate_grad':False,\n",
    "                               'clip_grad_value': None,\n",
    "                               'val_metrics':None,\n",
    "                               'device':device\n",
    "                             })\n",
    "\n",
    "opt = None\n",
    "if training_parameters['learning_type'] == 'BP': \n",
    "    opt = optim.Adam(get_grad_params(network.parameters()), \n",
    "                     lr=training_parameters.lr_theta,  \n",
    "                     weight_decay=training_parameters.wd)\n",
    "\n"
   ]
  },
  {
   "cell_type": "code",
   "execution_count": 157,
   "id": "1e86018d",
   "metadata": {},
   "outputs": [
    {
     "name": "stdout",
     "output_type": "stream",
     "text": [
      "5\n"
     ]
    }
   ],
   "source": [
    "if opt is not None:\n",
    "    print(len(opt.param_groups[0]['params']))"
   ]
  },
  {
   "cell_type": "code",
   "execution_count": 159,
   "id": "4e99511f",
   "metadata": {},
   "outputs": [
    {
     "name": "stderr",
     "output_type": "stream",
     "text": [
      "100%|██████████████████████████████████████████████████████████████████████████████████████████████████████████████████████████████| 500/500 [02:04<00:00,  4.01it/s]\n"
     ]
    }
   ],
   "source": [
    "metric_dict = None\n",
    "training_parameters['learning_type'] = LEARNING_TYPE\n",
    "training_parameters['epochs'] = 500\n",
    "\n",
    "network, opt, metric_dict = train(network, \n",
    "                                  opt=opt, \n",
    "                                  criterion=CRITERION,\n",
    "                                  criterion_kwargs=criterion_kwargs,\n",
    "                                  parameters=training_parameters,\n",
    "                                  train_dataloader=dataset_train,\n",
    "                                  val_dataloader=dataset_test, \n",
    "                                  metric_dict=metric_dict,\n",
    "                                  val_metrics=None\n",
    "                                 )\n"
   ]
  },
  {
   "cell_type": "code",
   "execution_count": 160,
   "id": "901de250",
   "metadata": {},
   "outputs": [],
   "source": [
    "# training_parameters['learning_type'] = \"BP\"\n",
    "# training_parameters['batch_size'] = T\n",
    "# training_parameters['epochs'] = 5000\n",
    "\n",
    "\n",
    "# GRAD_PARAMS = list(filter(lambda x: x.requires_grad, network.parameters()))\n",
    "\n",
    "# opt = optim.Adam(GRAD_PARAMS, \n",
    "#                  lr=training_parameters.lr_theta, \n",
    "#                  weight_decay=training_parameters.wd)\n",
    "\n",
    "# network, opt, metric_dict = train(network, \n",
    "#                                   opt=opt, \n",
    "#                                   criterion=l2_loss,\n",
    "#                                   train_params=training_parameters,\n",
    "#                                   data_params=input_parameters, \n",
    "#                                   val_data={'inpt':inpt_torch_test,'outpt':outpt_torch_test},\n",
    "#                                   metric_dict=metric_dict \n",
    "#                                   )"
   ]
  },
  {
   "cell_type": "code",
   "execution_count": 209,
   "id": "23dbc5c2",
   "metadata": {},
   "outputs": [],
   "source": [
    "# state_dict = torch.load('./results/mlp_nonlinear/checkpoints/MLP_BP_hdim-10_lnum-2_Wgrad-1_fgrad-1_universal_approximator')\n",
    "# network.load_state_dict(state_dict)"
   ]
  },
  {
   "cell_type": "code",
   "execution_count": 217,
   "id": "cbb6d854",
   "metadata": {},
   "outputs": [],
   "source": [
    "# X_s_pred = [to_numpy(X) for X in network(inpt_test_torch.to('cpu'))]\n",
    "# outpt_val_pred = X_s_pred[-1]\n"
   ]
  },
  {
   "cell_type": "code",
   "execution_count": 218,
   "id": "9347afca",
   "metadata": {},
   "outputs": [],
   "source": [
    "\n",
    "# plt.figure(figsize=(20,5))\n",
    "\n",
    "# ax1 = plt.subplot(1,4,1)\n",
    "# ax1.plot(metric_dict['criterion_train'])\n",
    "# ax1.set_title('criterion_train')\n",
    "\n",
    "# ax2 = plt.subplot(1,4,2)\n",
    "# ax2.plot(metric_dict['criterion_val'])\n",
    "# ax2.set_title('criterion_val')\n",
    "\n",
    "# plt.tight_layout()\n",
    "# plt.show()"
   ]
  },
  {
   "cell_type": "code",
   "execution_count": 219,
   "id": "da486545",
   "metadata": {},
   "outputs": [],
   "source": [
    "Q_loc_val_NET, Q_glob_val_NET = calculate_Q_metrics(inpt_test, outpt_val_pred.T)"
   ]
  },
  {
   "cell_type": "code",
   "execution_count": 220,
   "id": "662eb784",
   "metadata": {},
   "outputs": [
    {
     "data": {
      "text/plain": [
       "(0.7527679469481328, 0.6972272138137002)"
      ]
     },
     "execution_count": 220,
     "metadata": {},
     "output_type": "execute_result"
    }
   ],
   "source": [
    "Q_loc_val_NET, Q_glob_val_NET"
   ]
  },
  {
   "cell_type": "code",
   "execution_count": 216,
   "id": "7462d812",
   "metadata": {},
   "outputs": [
    {
     "data": {
      "image/png": "[encoded data removed]",
      "text/plain": [
       "<Figure size 432x288 with 2 Axes>"
      ]
     },
     "metadata": {
      "needs_background": "light"
     },
     "output_type": "display_data"
    }
   ],
   "source": [
    "plt.figure()\n",
    "plt.scatter(outpt_val_pred[0],\n",
    "            outpt_val_pred[1], \n",
    "            c=color_test)\n",
    "plt.colorbar()\n",
    "plt.show()"
   ]
  },
  {
   "cell_type": "code",
   "execution_count": 165,
   "id": "ef0da5dc",
   "metadata": {},
   "outputs": [],
   "source": [
    "X = X_s_pred[1]"
   ]
  },
  {
   "cell_type": "code",
   "execution_count": 167,
   "id": "6de43774",
   "metadata": {},
   "outputs": [],
   "source": [
    "# plt.ioff()\n",
    "# plt.figure()\n",
    "# df = pd.DataFrame(X.T, columns=['x','y', 'z'])\n",
    "# df['target'] = color_test\n",
    "# fig = px.scatter_3d(df, x='x', y='y', z='z', color='target' if 'target' in df else None)\n",
    "\n",
    "# fig.show()"
   ]
  },
  {
   "cell_type": "markdown",
   "id": "e69252bc",
   "metadata": {},
   "source": [
    "#### 3 layers, hidden dim  10\n",
    " - $f_{theta}$ only. $Q_l$ 0.52, $Q_g$: 0.75, loss ~ 0.15, still curved and overlapping embedding\n",
    " - $f_{theta}$ and $W$. $Q_l$ 0.78, $Q_g$: 0.7, loss ~ 0.07 - nicely flatten "
   ]
  },
  {
   "cell_type": "code",
   "execution_count": 168,
   "id": "a20dd8c7",
   "metadata": {},
   "outputs": [],
   "source": [
    "root_checkpoints = 'results/mlp_nonlinear/checkpoints'\n",
    "hdim = encoder_parameters['hidden_dim']\n",
    "lnum = encoder_parameters['layers_number']\n",
    "Wgrad = int(encoder_parameters['W_requires_grad'])\n",
    "fgrad = int(encoder_parameters['parametrized_f'])\n",
    "fname = encoder_parameters['nonlinearity'].__name__\n",
    "\n",
    "experiment_name = 'MLP_' + LEARNING_TYPE + f'_hdim-{hdim}' + \\\n",
    "                  f'_lnum-{lnum}' + f'_Wgrad-{Wgrad}' + f'_fgrad-{fgrad}' + f'_{fname}' \n",
    "\n",
    "checkpoint_name = os.path.join(root_checkpoints, experiment_name)\n",
    "torch.save(network.state_dict(), checkpoint_name)"
   ]
  },
  {
   "cell_type": "code",
   "execution_count": 169,
   "id": "de43eee2",
   "metadata": {},
   "outputs": [],
   "source": [
    "# n_fs = len(network.f_s)\n",
    "# ξ = torch.linspace(-5,5,1000).to(device)\n",
    "\n",
    "# for layer in range(n_fs):\n",
    "#     f_theta = network.f_s[layer]\n",
    "#     if network.final_nonlinearity or layer < n_fs-1:\n",
    "#         n_neurons = f_theta.input_dim\n",
    "#         y = torch.stack([ξ for _ in range(n_neurons)],0) # [n_neurons, T]\n",
    "\n",
    "#         f = to_numpy(f_theta(y)) # [n_neurons, T]\n",
    "\n",
    "#         fig, axes = plt.subplots(ncols=n_neurons, nrows=1, figsize=(n_neurons*3,3))\n",
    "\n",
    "#         for j,ax in enumerate(axes):\n",
    "#             ax.plot(to_numpy(ξ), f[j])\n",
    "#             ax.set_title(f'Neuron: {j}')\n",
    "\n",
    "#         fig.suptitle(f'Layer: {layer}', y=1.1, color='blue')\n",
    "    \n",
    "# plt.tight_layout()\n",
    "# plt.show()"
   ]
  },
  {
   "cell_type": "code",
   "execution_count": 29,
   "id": "29767650",
   "metadata": {},
   "outputs": [],
   "source": [
    "# plt.ioff()\n",
    "# plt.figure()\n",
    "# df = pd.DataFrame(outpt_val_pred.T, columns=['x','y', 'z'])\n",
    "# if color is not None:\n",
    "#     df['target'] = color_test\n",
    "# fig = px.scatter_3d(df, x='x', y='y', z='z', color='target' if 'target' in df else None)\n",
    "\n",
    "# fig.show()"
   ]
  },
  {
   "cell_type": "code",
   "execution_count": 28,
   "id": "f4da0791",
   "metadata": {},
   "outputs": [],
   "source": [
    "# plt.ioff()\n",
    "# plt.figure()\n",
    "# df = pd.DataFrame(np.concatenate([inpt_test, outpt_val_pred], axis=1).T, columns=['x','y', 'z'])\n",
    "\n",
    "# df['target'] = np.concatenate([np.zeros((inpt.shape[1])), \n",
    "#                                np.ones((inpt_test.shape[1]))])\n",
    "\n",
    "# fig = px.scatter_3d(df, x='x', y='y', z='z', color='target')\n",
    "\n",
    "# fig.show()"
   ]
  }
 ],
 "metadata": {
  "kernelspec": {
   "display_name": "Python 3 (ipykernel)",
   "language": "python",
   "name": "python3"
  },
  "language_info": {
   "codemirror_mode": {
    "name": "ipython",
    "version": 3
   },
   "file_extension": ".py",
   "mimetype": "text/x-python",
   "name": "python",
   "nbconvert_exporter": "python",
   "pygments_lexer": "ipython3",
   "version": "3.8.13"
  }
 },
 "nbformat": 4,
 "nbformat_minor": 5
}
