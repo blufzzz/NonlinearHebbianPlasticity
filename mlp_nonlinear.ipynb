{
 "cells": [
  {
   "cell_type": "code",
   "execution_count": 1,
   "id": "b8c59344",
   "metadata": {},
   "outputs": [],
   "source": [
    "%load_ext autoreload \n",
    "\n",
    "from tqdm import tqdm\n",
    "import matplotlib.pyplot as plt\n",
    "import plotly.express as px\n",
    "import numpy as np\n",
    "from easydict import EasyDict as edict\n",
    "import pandas as pd\n",
    "import os\n",
    "from collections import defaultdict\n",
    "from joblib import Parallel, delayed\n",
    "import multiprocessing as mp\n",
    "from IPython.core.debugger import set_trace\n",
    "from IPython.display import clear_output\n",
    "\n",
    "import copy\n",
    "\n",
    "from sklearn.decomposition import PCA, KernelPCA, FastICA\n",
    "from sklearn.metrics import r2_score, make_scorer\n",
    "from sklearn.linear_model import Ridge, Lasso, LinearRegression\n",
    "from sklearn.preprocessing import MinMaxScaler, StandardScaler, RobustScaler\n",
    "from sklearn.model_selection import cross_val_score, train_test_split\n",
    "from sklearn.datasets import make_swiss_roll,\\\n",
    "                             make_s_curve,\\\n",
    "                             make_moons\n",
    "\n",
    "from umap import UMAP\n",
    "\n",
    "import torch\n",
    "from torch import nn\n",
    "from torch import optim\n",
    "from torch import autograd\n",
    "\n",
    "from torch.utils.data import DataLoader\n",
    "\n",
    "from train_utils import *\n",
    "from metric_utils import calculate_Q_metrics, \\\n",
    "                         strain, \\\n",
    "                         l2_loss, \\\n",
    "                         to_numpy, \\\n",
    "                         numpy_metric, \\\n",
    "                         cosine_sim\n",
    "\n",
    "from input_utils import DataGenerator, make_random_affine\n",
    "from mlp_model import MLP_NonlinearEncoder\n",
    "from models_utils import init_weights, \\\n",
    "                         universal_approximator, \\\n",
    "                         dJ_criterion, \\\n",
    "                         gained_function, \\\n",
    "                         sigmoid, \\\n",
    "                         initialize_nonlinearities\n",
    "\n",
    "from embedding_utils import ConstructUMAPGraph, UMAPLoss, UMAPDataset, umap_criterion_compatibility\n",
    "\n",
    "import warnings\n",
    "warnings.filterwarnings(\"ignore\")\n",
    "\n",
    "plt.rcParams['font.size'] = 20\n",
    "device = torch.device('cuda:0')\n",
    "N_CPU = mp.cpu_count()\n",
    "SEED = 42\n",
    "%autoreload 2"
   ]
  },
  {
   "cell_type": "markdown",
   "id": "25495a50",
   "metadata": {},
   "source": [
    "# Load data "
   ]
  },
  {
   "cell_type": "code",
   "execution_count": 2,
   "id": "e09ed566",
   "metadata": {},
   "outputs": [],
   "source": [
    "SCALER = StandardScaler()\n",
    "\n",
    "input_parameters = {'generator': make_swiss_roll, #make_s_curve, \n",
    "                    'generator_kwargs': {'n_samples':10000, 'noise':1e-2}, # 1e-1\n",
    "                    'unsupervised':True,\n",
    "                    'whiten':True,\n",
    "                    'scaler':SCALER, #SCALER,\n",
    "                    'use_outpt_color':True} \n",
    "\n",
    "create_data = DataGenerator(**input_parameters)\n",
    "\n",
    "inpt, _, color = create_data()\n",
    "\n",
    "N_TEST = 1000"
   ]
  },
  {
   "cell_type": "code",
   "execution_count": 3,
   "id": "ae80af2a",
   "metadata": {},
   "outputs": [
    {
     "data": {
      "text/plain": [
       "(array([-3.92574862e-17,  2.31636932e-16, -1.77635684e-17]),\n",
       " array([1., 1., 1.]))"
      ]
     },
     "execution_count": 3,
     "metadata": {},
     "output_type": "execute_result"
    }
   ],
   "source": [
    "inpt.mean(1), inpt.std(1)"
   ]
  },
  {
   "cell_type": "code",
   "execution_count": 4,
   "id": "15d81042",
   "metadata": {},
   "outputs": [],
   "source": [
    "inpt_train, inpt_test, color_train, color_test = train_test_split(inpt.T, \n",
    "                                                                  color, \n",
    "                                                                  random_state=42,\n",
    "                                                                  test_size=N_TEST)"
   ]
  },
  {
   "cell_type": "code",
   "execution_count": 5,
   "id": "424bf21f",
   "metadata": {},
   "outputs": [],
   "source": [
    "inpt_train_torch = torch.tensor(inpt_train, dtype=torch.float32).to(device)\n",
    "inpt_test_torch = torch.tensor(inpt_test, dtype=torch.float32).to(device)"
   ]
  },
  {
   "cell_type": "code",
   "execution_count": 6,
   "id": "4888568e",
   "metadata": {},
   "outputs": [
    {
     "data": {
      "text/plain": [
       "tensor([[1., 0., 0.],\n",
       "        [0., 1., -0.],\n",
       "        [0., -0., 1.]], device='cuda:0')"
      ]
     },
     "execution_count": 6,
     "metadata": {},
     "output_type": "execute_result"
    }
   ],
   "source": [
    "(inpt_train_torch.T@inpt_train_torch / inpt_train_torch.shape[0]).round()"
   ]
  },
  {
   "cell_type": "code",
   "execution_count": 7,
   "id": "0d5faa8a",
   "metadata": {},
   "outputs": [
    {
     "data": {
      "text/plain": [
       "(tensor([-0.0037, -0.0044, -0.0056], device='cuda:0'),\n",
       " tensor([1.0019, 0.9994, 0.9994], device='cuda:0'))"
      ]
     },
     "execution_count": 7,
     "metadata": {},
     "output_type": "execute_result"
    }
   ],
   "source": [
    "inpt_train_torch.mean(0), inpt_train_torch.std(0)"
   ]
  },
  {
   "cell_type": "code",
   "execution_count": 8,
   "id": "445616e3",
   "metadata": {},
   "outputs": [
    {
     "data": {
      "text/plain": [
       "(torch.Size([9000, 3]), torch.Size([1000, 3]))"
      ]
     },
     "execution_count": 8,
     "metadata": {},
     "output_type": "execute_result"
    }
   ],
   "source": [
    "inpt_train_torch.shape, inpt_test_torch.shape"
   ]
  },
  {
   "cell_type": "code",
   "execution_count": 9,
   "id": "b358c1c5",
   "metadata": {
    "scrolled": true
   },
   "outputs": [],
   "source": [
    "# plt.ioff()\n",
    "# plt.figure()\n",
    "# df = pd.DataFrame(inpt_test, columns=['x','y', 'z'])\n",
    "# if color is not None:\n",
    "#     df['target'] = color_test\n",
    "# fig = px.scatter_3d(df, x='x', y='y', z='z', color='target' if 'target' in df else None)\n",
    "\n",
    "# fig.show()"
   ]
  },
  {
   "cell_type": "code",
   "execution_count": 10,
   "id": "21d171e4",
   "metadata": {},
   "outputs": [],
   "source": [
    "# from mpl_toolkits import mplot3d\n",
    "\n",
    "# plt.figure(dpi=300)\n",
    "\n",
    "# ax = plt.axes(projection='3d')\n",
    "\n",
    "# ax.scatter3D(inpt_test[:,0], inpt_test[:,1], inpt_test[:,2], c=color_test, cmap='viridis')\n",
    "# plt.show()"
   ]
  },
  {
   "cell_type": "markdown",
   "id": "d3815cdd",
   "metadata": {},
   "source": [
    "# PCA"
   ]
  },
  {
   "cell_type": "code",
   "execution_count": 11,
   "id": "659c2b65",
   "metadata": {},
   "outputs": [],
   "source": [
    "N_CYCLES = 1\n",
    "data = [create_data()  for _ in range(N_CYCLES)]\n",
    "inpt_data = np.concatenate([d[0] for d in data],-1)\n",
    "outpt_data = np.concatenate([d[1] for d in data],-1)"
   ]
  },
  {
   "cell_type": "code",
   "execution_count": 12,
   "id": "f7628884",
   "metadata": {},
   "outputs": [
    {
     "name": "stdout",
     "output_type": "stream",
     "text": [
      "3\n"
     ]
    },
    {
     "data": {
      "image/png": "[encoded data removed]",
      "text/plain": [
       "<Figure size 432x288 with 1 Axes>"
      ]
     },
     "metadata": {
      "needs_background": "light"
     },
     "output_type": "display_data"
    }
   ],
   "source": [
    "pca = PCA()\n",
    "Z_pca = pca.fit_transform(inpt_data.T)\n",
    "pca_ev = np.cumsum(pca.explained_variance_ratio_)\n",
    "print((np.arange(1,inpt_data.shape[0]+1)[pca_ev > 0.99])[0])\n",
    "plt.plot(pca_ev)\n",
    "plt.show()"
   ]
  },
  {
   "cell_type": "code",
   "execution_count": 13,
   "id": "efab53e5",
   "metadata": {},
   "outputs": [],
   "source": [
    "# plt.scatter(Z_pca[:,0], Z_pca[:,1], c=outpt_data[0])\n",
    "# plt.colorbar()"
   ]
  },
  {
   "cell_type": "code",
   "execution_count": 14,
   "id": "f7380b90",
   "metadata": {},
   "outputs": [],
   "source": [
    "# Z_pca_test = pca.transform(inpt_test.T)\n",
    "# plt.scatter(Z_pca_test[:,0], Z_pca_test[:,1], c=outpt_test[0])\n",
    "# plt.colorbar()"
   ]
  },
  {
   "cell_type": "code",
   "execution_count": 15,
   "id": "c064aafd",
   "metadata": {},
   "outputs": [],
   "source": [
    "# umap = UMAP(n_components=2, n_neighbors=50, n_jobs=1)\n",
    "# Z = umap.fit_transform(inpt_data.T)\n",
    "# Z_test = umap.transform(inpt_test.T)"
   ]
  },
  {
   "cell_type": "code",
   "execution_count": 16,
   "id": "dbd15668",
   "metadata": {},
   "outputs": [],
   "source": [
    "# plt.scatter(Z[:,0], Z[:,1], c=outpt_data[0])\n",
    "# plt.colorbar()"
   ]
  },
  {
   "cell_type": "code",
   "execution_count": 17,
   "id": "2a07328f",
   "metadata": {},
   "outputs": [],
   "source": [
    "# plt.scatter(Z_test[:,0], Z_test[:,1], c=outpt_test[0])\n",
    "# plt.colorbar()"
   ]
  },
  {
   "cell_type": "code",
   "execution_count": 18,
   "id": "7314fd72",
   "metadata": {},
   "outputs": [],
   "source": [
    "# Q_loc_val_UMAP, Q_glob_val_UMAP = calculate_Q_metrics(inpt_test.T, Z_test)"
   ]
  },
  {
   "cell_type": "code",
   "execution_count": 19,
   "id": "fbb08923",
   "metadata": {},
   "outputs": [],
   "source": [
    "# Q_loc_val_UMAP, Q_glob_val_UMAP"
   ]
  },
  {
   "cell_type": "markdown",
   "id": "8da621cd",
   "metadata": {},
   "source": [
    "# Train MLP"
   ]
  },
  {
   "cell_type": "markdown",
   "id": "f76c02ba",
   "metadata": {},
   "source": [
    "### Hebbian parameters"
   ]
  },
  {
   "cell_type": "code",
   "execution_count": 20,
   "id": "a6a24349",
   "metadata": {},
   "outputs": [],
   "source": [
    "# encoder_parameters = {\n",
    "#                     'input_dim':inpt.shape[0],\n",
    "#                     'hidden_dim':10,\n",
    "#                     'embedding_dim':2,\n",
    "#                     'add_readout':False,\n",
    "#                     'add_recurrent_connections':False,\n",
    "#                     'add_recurrent_nonlinearity':False,\n",
    "#                     'hebbian_update':criterion_rule,\n",
    "#                     'inplace_update':False,\n",
    "#                     'normalize_hebbian_update':False,\n",
    "#                     'lr_hebb':1e-4,\n",
    "#                     'W_requires_grad':False,\n",
    "#                     'W_r_requires_grad':False,\n",
    "#                     'f_requires_grad':False,\n",
    "#                     'final_nonlinearity':False,\n",
    "#                     'parametrized_f':False,\n",
    "#                     'nonlinearity': universal_approximator,\n",
    "# #                     'nonlinearity': nn.Tanh(),\n",
    "#                     'f_kwargs':{'hidden_dim':10, 'requires_grad':True},\n",
    "#                     'layers_number':3,\n",
    "#                     'add_bn':True,\n",
    "#                     'seed':None,\n",
    "#                     'set_seed':False,\n",
    "#                      }\n",
    "\n",
    "# network = MLP_NonlinearEncoder(**encoder_parameters).to(device)"
   ]
  },
  {
   "cell_type": "markdown",
   "id": "bb494a56",
   "metadata": {},
   "source": [
    "### Backprop parameters"
   ]
  },
  {
   "cell_type": "code",
   "execution_count": 21,
   "id": "af0d6cde",
   "metadata": {},
   "outputs": [],
   "source": [
    "encoder_parameters = {\n",
    "                    'input_dim':inpt.shape[0],\n",
    "                    'hidden_dim':60,\n",
    "                    'embedding_dim':2,\n",
    "                    'add_readout':False,\n",
    "                    'add_recurrent_connections':False,\n",
    "                    'add_recurrent_nonlinearity':False,\n",
    "                    'hebbian_update':None,\n",
    "                    'inplace_update':False,\n",
    "                    'normalize_hebbian_update':False,\n",
    "                    'lr_hebb':None,\n",
    "                    'W_requires_grad':True,\n",
    "                    'W_r_requires_grad':False,\n",
    "                    'f_requires_grad':True,\n",
    "                    'final_nonlinearity':False,\n",
    "                    'parametrized_f':True,\n",
    "                    'nonlinearity': universal_approximator,\n",
    "#                     'nonlinearity': nn.Tanh(),\n",
    "                    'f_kwargs':{'hidden_dim':10, 'requires_grad':True},\n",
    "                    'layers_number':4,\n",
    "                    'add_bn':True,\n",
    "                    'seed':None,\n",
    "                    'set_seed':False,\n",
    "                     }\n",
    "\n",
    "network = MLP_NonlinearEncoder(**encoder_parameters).to(device)"
   ]
  },
  {
   "cell_type": "markdown",
   "id": "b4653206",
   "metadata": {},
   "source": [
    "### Hebbian-Backprop parameters"
   ]
  },
  {
   "cell_type": "code",
   "execution_count": 22,
   "id": "ec21482d",
   "metadata": {},
   "outputs": [],
   "source": [
    "# encoder_parameters = {\n",
    "#                     'input_dim':inpt.shape[0],\n",
    "#                     'hidden_dim':10,\n",
    "#                     'embedding_dim':2,\n",
    "#                     'add_readout':False,\n",
    "#                     'add_recurrent_connections':False,\n",
    "#                     'add_recurrent_nonlinearity':False,\n",
    "#                     'hebbian_update':criterion_rule,\n",
    "#                     'inplace_update':False,\n",
    "#                     'normalize_hebbian_update':False,\n",
    "#                     'lr_hebb':1e-3,\n",
    "#                     'W_requires_grad':False,\n",
    "#                     'W_r_requires_grad':False,\n",
    "#                     'f_requires_grad':False,\n",
    "#                     'final_nonlinearity':False,\n",
    "#                     'parametrized_f':False,\n",
    "#                     'nonlinearity': universal_approximator,\n",
    "# #                     'nonlinearity': nn.Tanh(),\n",
    "#                     'f_kwargs':{'hidden_dim':10, 'requires_grad':True},\n",
    "#                     'layers_number':3,\n",
    "#                     'add_bn':True,\n",
    "#                     'seed':None,\n",
    "#                     'set_seed':False,\n",
    "#                      }\n",
    "\n",
    "# network = MLP_NonlinearEncoder(**encoder_parameters).to(device)"
   ]
  },
  {
   "cell_type": "code",
   "execution_count": 23,
   "id": "db8a7ab1",
   "metadata": {},
   "outputs": [
    {
     "name": "stdout",
     "output_type": "stream",
     "text": [
      "Net capacity: 11130\n",
      "Parameters:\n",
      "W_s.0 torch.Size([60, 3]) requires_grad: True\n",
      "W_s.1 torch.Size([60, 60]) requires_grad: True\n",
      "W_s.2 torch.Size([60, 60]) requires_grad: True\n",
      "W_s.3 torch.Size([2, 60]) requires_grad: True\n",
      "f_s.0.theta1 torch.Size([10, 60]) requires_grad: True\n",
      "f_s.0.bias1 torch.Size([10, 60]) requires_grad: True\n",
      "f_s.0.theta2 torch.Size([1, 10]) requires_grad: True\n",
      "f_s.1.theta1 torch.Size([10, 60]) requires_grad: True\n",
      "f_s.1.bias1 torch.Size([10, 60]) requires_grad: True\n",
      "f_s.1.theta2 torch.Size([1, 10]) requires_grad: True\n",
      "f_s.2.theta1 torch.Size([10, 60]) requires_grad: True\n",
      "f_s.2.bias1 torch.Size([10, 60]) requires_grad: True\n",
      "f_s.2.theta2 torch.Size([1, 10]) requires_grad: True\n"
     ]
    },
    {
     "data": {
      "image/png": "[encoded data removed]",
      "text/plain": [
       "<Figure size 432x288 with 1 Axes>"
      ]
     },
     "metadata": {
      "needs_background": "light"
     },
     "output_type": "display_data"
    }
   ],
   "source": [
    "print('Net capacity:', get_capacity(network))\n",
    "print('Parameters:')\n",
    "\n",
    "for name, param in network.named_parameters():\n",
    "    print(name, param.shape, 'requires_grad:', param.requires_grad)\n",
    "#     plt.figure()\n",
    "    W = to_numpy(param.data)\n",
    "    plt.hist(W.flatten(),bins=20, alpha=0.5, label=f'{name}')\n",
    "#     W /= np.linalg.norm(W, axis=1, keepdims=True)\n",
    "#     print(W@W.T)\n",
    "plt.legend()\n",
    "plt.show()"
   ]
  },
  {
   "cell_type": "code",
   "execution_count": 24,
   "id": "a04b4902",
   "metadata": {
    "scrolled": true
   },
   "outputs": [
    {
     "data": {
      "text/plain": [
       "(2, 1000)"
      ]
     },
     "execution_count": 24,
     "metadata": {},
     "output_type": "execute_result"
    }
   ],
   "source": [
    "X_s = network.forward(inpt_test_torch)\n",
    "outpt_val_pred = to_numpy(X_s[-1])\n",
    "outpt_val_pred.shape"
   ]
  },
  {
   "cell_type": "code",
   "execution_count": 25,
   "id": "ada86950",
   "metadata": {},
   "outputs": [
    {
     "name": "stdout",
     "output_type": "stream",
     "text": [
      "torch.Size([60, 3])\n",
      "torch.Size([60, 60])\n",
      "torch.Size([60, 60])\n",
      "torch.Size([2, 60])\n"
     ]
    }
   ],
   "source": [
    "for W in network.W_s:\n",
    "    print(W.shape)"
   ]
  },
  {
   "cell_type": "code",
   "execution_count": 26,
   "id": "9e2e867c",
   "metadata": {},
   "outputs": [],
   "source": [
    "# plt.ioff()\n",
    "# plt.figure()\n",
    "# df = pd.DataFrame(outpt_val_pred.T, columns=['x','y', 'z'])\n",
    "# if color is not None:\n",
    "#     df['target'] = color_test\n",
    "# fig = px.scatter_3d(df, x='x', y='y', z='z', color='target' if 'target' in df else None)\n",
    "\n",
    "# fig.show()"
   ]
  },
  {
   "cell_type": "code",
   "execution_count": 27,
   "id": "eb2956a9",
   "metadata": {},
   "outputs": [
    {
     "data": {
      "image/png": "[encoded data removed]",
      "text/plain": [
       "<Figure size 432x288 with 1 Axes>"
      ]
     },
     "metadata": {
      "needs_background": "light"
     },
     "output_type": "display_data"
    }
   ],
   "source": [
    "plt.scatter(outpt_val_pred[0], outpt_val_pred[1], c=color_test)\n",
    "plt.show()"
   ]
  },
  {
   "cell_type": "code",
   "execution_count": 28,
   "id": "0bb683a4",
   "metadata": {},
   "outputs": [
    {
     "name": "stdout",
     "output_type": "stream",
     "text": [
      "Tue Jul 26 15:56:16 2022 Building RP forest with 10 trees\n",
      "Tue Jul 26 15:56:16 2022 NN descent for 13 iterations\n",
      "\t 1  /  13\n",
      "\t 2  /  13\n",
      "\tStopping threshold met -- exiting after 2 iterations\n",
      "Tue Jul 26 15:56:34 2022 Building RP forest with 7 trees\n",
      "Tue Jul 26 15:56:34 2022 NN descent for 10 iterations\n",
      "\t 1  /  10\n",
      "\t 2  /  10\n",
      "\tStopping threshold met -- exiting after 2 iterations\n"
     ]
    }
   ],
   "source": [
    "graph_constructor = ConstructUMAPGraph(metric='euclidean', \n",
    "                                        n_neighbors=20, \n",
    "                                        random_state=SEED)\n",
    "\n",
    "# (epochs_per_sample, head, tail, weight) \n",
    "train_graph_data = graph_constructor(inpt_train)\n",
    "test_graph_data = graph_constructor(inpt_test)\n",
    "\n",
    "BATCH_SIZE_BP = 10000\n",
    "\n",
    "dataset_train = UMAPDataset(inpt_train, *train_graph_data, device=device, batch_size=BATCH_SIZE_BP)\n",
    "dataset_test = UMAPDataset(inpt_test, *test_graph_data, device=device, batch_size=BATCH_SIZE_BP)\n",
    "\n",
    "# for hebbian update\n",
    "train_hebb_dataloader = DataLoader(inpt_train_torch, batch_size=1, shuffle=True)\n",
    "\n",
    "criterion_umap = UMAPLoss(device=device, \n",
    "                         min_dist=0.1,\n",
    "                         negative_sample_rate=5,\n",
    "                         edge_weight=None,\n",
    "                         repulsion_strength=1.0)\n",
    "\n",
    "criterion = umap_criterion_compatibility(criterion_umap)"
   ]
  },
  {
   "cell_type": "code",
   "execution_count": 29,
   "id": "11f35dc7",
   "metadata": {},
   "outputs": [
    {
     "data": {
      "text/plain": [
       "(205, 25)"
      ]
     },
     "execution_count": 29,
     "metadata": {},
     "output_type": "execute_result"
    }
   ],
   "source": [
    "len(dataset_train), len(dataset_test)"
   ]
  },
  {
   "cell_type": "code",
   "execution_count": 30,
   "id": "aeadbd2a",
   "metadata": {},
   "outputs": [],
   "source": [
    "# for batch in dataset_test:\n",
    "#     break\n",
    "\n",
    "# X_s = network.forward(batch)\n",
    "# batch.shape , criterion(X_s), X_s[-1].shape"
   ]
  },
  {
   "cell_type": "code",
   "execution_count": 31,
   "id": "6b29cb13",
   "metadata": {},
   "outputs": [],
   "source": [
    "# for batch in train_hebb_dataloader:\n",
    "#     break\n",
    "\n",
    "# X_s = network.forward(batch)\n",
    "# batch.shape, X_s[-1].shape"
   ]
  },
  {
   "cell_type": "markdown",
   "id": "d088a004",
   "metadata": {},
   "source": [
    "### Hebbian learning parameters"
   ]
  },
  {
   "cell_type": "code",
   "execution_count": 32,
   "id": "7f3c1ce2",
   "metadata": {},
   "outputs": [],
   "source": [
    "# training_parameters = edict({'epochs':10,\n",
    "#                            'enable_grad_train':False,\n",
    "#                            'enable_grad_val':False,\n",
    "#                            'backprop_learning':False,\n",
    "#                            'hebbian_learning':True,\n",
    "#                            'lr_bp':None,\n",
    "#                            'wd_bp':None, \n",
    "#                            'maxiter':None, # maxiter\n",
    "#                            'progress_bar':True,\n",
    "#                            'weight_saver':None,\n",
    "#                            'calculate_grad':False,\n",
    "#                            'clip_grad_value': None,\n",
    "#                            'val_metrics':None,\n",
    "#                            'device':device\n",
    "#                           })\n",
    "\n",
    "# criterion_kwargs = defaultdict(dict)\n",
    "# criterion_kwargs['skip_train'] = True\n",
    "# criterion_kwargs['skip_val'] = False\n",
    "\n",
    "# opt = None"
   ]
  },
  {
   "cell_type": "markdown",
   "id": "9e761d1e",
   "metadata": {},
   "source": [
    "### Backprop training parameters"
   ]
  },
  {
   "cell_type": "code",
   "execution_count": 33,
   "id": "2e9b8142",
   "metadata": {},
   "outputs": [],
   "source": [
    "training_parameters = edict({'epochs':200,\n",
    "                           'enable_grad_train':True,\n",
    "                           'enable_grad_val':True,\n",
    "                           'backprop_learning':True,\n",
    "                           'hebbian_learning':False,\n",
    "                           'lr':1e-4,\n",
    "                           'wd':0, \n",
    "                           'maxiter':1000, # maxiter\n",
    "                           'progress_bar':True,\n",
    "                           'weight_saver':None,\n",
    "                           'calculate_grad':True,\n",
    "                           'clip_grad_value': None,\n",
    "                           'val_metrics':None,\n",
    "                           'device':device\n",
    "                          })\n",
    "\n",
    "criterion_kwargs = defaultdict(dict)\n",
    "criterion_kwargs['skip_train'] = False\n",
    "criterion_kwargs['skip_val'] = False\n",
    "\n",
    "opt = None\n",
    "if training_parameters['backprop_learning']:\n",
    "    opt = optim.Adam(get_grad_params(network.parameters()), \n",
    "                     lr=training_parameters.lr,  \n",
    "                     weight_decay=training_parameters.wd)"
   ]
  },
  {
   "cell_type": "code",
   "execution_count": 34,
   "id": "6285bd67",
   "metadata": {},
   "outputs": [
    {
     "name": "stdout",
     "output_type": "stream",
     "text": [
      "torch.Size([60, 3])\n",
      "torch.Size([60, 60])\n",
      "torch.Size([60, 60])\n",
      "torch.Size([2, 60])\n",
      "torch.Size([10, 60])\n",
      "torch.Size([10, 60])\n",
      "torch.Size([1, 10])\n",
      "torch.Size([10, 60])\n",
      "torch.Size([10, 60])\n",
      "torch.Size([1, 10])\n",
      "torch.Size([10, 60])\n",
      "torch.Size([10, 60])\n",
      "torch.Size([1, 10])\n"
     ]
    }
   ],
   "source": [
    "for p in get_grad_params(network.parameters()):\n",
    "    print(p.shape)"
   ]
  },
  {
   "cell_type": "code",
   "execution_count": 35,
   "id": "1e86018d",
   "metadata": {},
   "outputs": [
    {
     "name": "stdout",
     "output_type": "stream",
     "text": [
      "13\n"
     ]
    }
   ],
   "source": [
    "if opt is not None:\n",
    "    print(len(opt.param_groups[0]['params']))"
   ]
  },
  {
   "cell_type": "markdown",
   "id": "f1f8a959",
   "metadata": {},
   "source": [
    "### BP training"
   ]
  },
  {
   "cell_type": "code",
   "execution_count": 36,
   "id": "316d3932",
   "metadata": {},
   "outputs": [
    {
     "name": "stderr",
     "output_type": "stream",
     "text": [
      "100%|██████████████████████████████████████████████████████████████████████████████████████████████████████████████████████████████| 200/200 [08:56<00:00,  2.68s/it]\n"
     ]
    }
   ],
   "source": [
    "metric_dict = None\n",
    "\n",
    "network, opt, metric_dict = train(network, \n",
    "                                  opt=opt, \n",
    "                                  criterion=criterion,\n",
    "                                  criterion_kwargs=criterion_kwargs,\n",
    "                                  parameters=training_parameters,\n",
    "                                  train_dataloader=dataset_train,\n",
    "                                  val_dataloader=dataset_test, \n",
    "                                  metric_dict=metric_dict,\n",
    "                                  val_metrics=None\n",
    "                                  )"
   ]
  },
  {
   "cell_type": "markdown",
   "id": "4d8b380e",
   "metadata": {},
   "source": [
    "### Hebb training"
   ]
  },
  {
   "cell_type": "code",
   "execution_count": 37,
   "id": "cb0bd85b",
   "metadata": {},
   "outputs": [],
   "source": [
    "# metric_dict = None\n",
    "\n",
    "# network, opt, metric_dict = train(network, \n",
    "#                                   opt=None, \n",
    "#                                   criterion=criterion,\n",
    "#                                   criterion_kwargs=criterion_kwargs,\n",
    "#                                   parameters=training_parameters,\n",
    "#                                   train_dataloader=train_hebb_dataloader,\n",
    "#                                   val_dataloader=dataset_test, \n",
    "#                                   metric_dict=metric_dict,\n",
    "#                                   val_metrics=None\n",
    "#                                   )"
   ]
  },
  {
   "cell_type": "code",
   "execution_count": 38,
   "id": "9347afca",
   "metadata": {},
   "outputs": [
    {
     "data": {
      "image/png": "[encoded data removed]",
      "text/plain": [
       "<Figure size 1440x360 with 2 Axes>"
      ]
     },
     "metadata": {
      "needs_background": "light"
     },
     "output_type": "display_data"
    }
   ],
   "source": [
    "plt.figure(figsize=(20,5))\n",
    "\n",
    "ax1 = plt.subplot(1,4,1)\n",
    "ax1.plot(metric_dict['criterion_train'])\n",
    "ax1.set_title('criterion_train')\n",
    "\n",
    "ax2 = plt.subplot(1,4,2)\n",
    "ax2.plot(metric_dict['criterion_val'])\n",
    "ax2.set_title('criterion_val')\n",
    "\n",
    "plt.tight_layout()\n",
    "plt.show()"
   ]
  },
  {
   "cell_type": "code",
   "execution_count": 39,
   "id": "2c9a2d89",
   "metadata": {},
   "outputs": [
    {
     "data": {
      "image/png": "[encoded data removed]",
      "text/plain": [
       "<Figure size 432x288 with 1 Axes>"
      ]
     },
     "metadata": {
      "needs_background": "light"
     },
     "output_type": "display_data"
    }
   ],
   "source": [
    "if 'grad_norm_train' in metric_dict:\n",
    "    plt.plot(metric_dict['grad_norm_train'])"
   ]
  },
  {
   "cell_type": "code",
   "execution_count": 40,
   "id": "56d15111",
   "metadata": {},
   "outputs": [],
   "source": [
    "X_s_pred = network(inpt_test_torch.to(device))\n",
    "# X_s_pred = network(inpt_train_torch.to(device))\n",
    "\n",
    "outpt_val_pred = to_numpy(X_s_pred[-1])"
   ]
  },
  {
   "cell_type": "code",
   "execution_count": 41,
   "id": "da486545",
   "metadata": {},
   "outputs": [],
   "source": [
    "# Q_loc_val_NET, Q_glob_val_NET = calculate_Q_metrics(inpt_test, outpt_val_pred.T)\n",
    "# Q_loc_val_NET, Q_glob_val_NET"
   ]
  },
  {
   "cell_type": "code",
   "execution_count": 42,
   "id": "0654b0ab",
   "metadata": {},
   "outputs": [],
   "source": [
    "# plt.figure()\n",
    "# plt.scatter(outpt_val_pred[0],\n",
    "#             outpt_val_pred[1], \n",
    "#             c=color_test)\n",
    "# plt.title(r'BP for $f_{\\theta}$ only')\n",
    "# plt.colorbar()\n",
    "# plt.show()"
   ]
  },
  {
   "cell_type": "code",
   "execution_count": 43,
   "id": "24a28b95",
   "metadata": {},
   "outputs": [
    {
     "data": {
      "image/png": "[encoded data removed]",
      "text/plain": [
       "<Figure size 432x288 with 2 Axes>"
      ]
     },
     "metadata": {
      "needs_background": "light"
     },
     "output_type": "display_data"
    }
   ],
   "source": [
    "plt.figure()\n",
    "plt.scatter(outpt_val_pred[0],\n",
    "            outpt_val_pred[1], \n",
    "            c=color_test)\n",
    "plt.title(r'BP all parameters')\n",
    "plt.colorbar()\n",
    "plt.show()"
   ]
  },
  {
   "cell_type": "code",
   "execution_count": 44,
   "id": "150a1e9a",
   "metadata": {},
   "outputs": [],
   "source": [
    "# list(network.f_s[2].parameters())"
   ]
  },
  {
   "cell_type": "code",
   "execution_count": 45,
   "id": "6de43774",
   "metadata": {},
   "outputs": [],
   "source": [
    "# plt.ioff()\n",
    "# plt.figure()\n",
    "# df = pd.DataFrame(X.T, columns=['x','y', 'z'])\n",
    "# df['target'] = color_test\n",
    "# fig = px.scatter_3d(df, x='x', y='y', z='z', color='target' if 'target' in df else None)\n",
    "# fig.show()"
   ]
  },
  {
   "cell_type": "markdown",
   "id": "e69252bc",
   "metadata": {},
   "source": [
    "min_dist=0.1,\n",
    "negative_sample_rate=5,\n",
    "edge_weight=None,\n",
    "repulsion_strength=1.0\n",
    "\n",
    "#### 3 layers, hidden dim  10\n",
    " - $f_{theta}$ only. $Q_l$ 0.52, $Q_g$: 0.75, loss ~ 0.15, still curved and overlapping embedding\n",
    " - $f_{theta}$ and $W$. $Q_l$ 0.78, $Q_g$: 0.7, loss ~ 0.07 - nicely flatten "
   ]
  },
  {
   "cell_type": "code",
   "execution_count": null,
   "id": "e84829b6",
   "metadata": {},
   "outputs": [],
   "source": [
    "# encoder_parameters = {\n",
    "#                     'input_dim':inpt.shape[0],\n",
    "#                     'hidden_dim':10,\n",
    "#                     'embedding_dim':2,\n",
    "#                     'add_readout':False,\n",
    "#                     'add_recurrent_connections':False,\n",
    "#                     'add_recurrent_nonlinearity':False,\n",
    "#                     'hebbian_update':None,\n",
    "#                     'inplace_update':False,\n",
    "#                     'normalize_hebbian_update':False,\n",
    "#                     'lr_hebb':None,\n",
    "#                     'W_requires_grad':True,\n",
    "#                     'W_r_requires_grad':False,\n",
    "#                     'f_requires_grad':True,\n",
    "#                     'final_nonlinearity':False,\n",
    "#                     'parametrized_f':True,\n",
    "#                     'nonlinearity': universal_approximator,\n",
    "# #                     'nonlinearity': nn.Tanh(),\n",
    "#                     'f_kwargs':{'hidden_dim':10, 'requires_grad':True},\n",
    "#                     'layers_number':3,\n",
    "#                     'add_bn':True,\n",
    "#                     'seed':None,\n",
    "#                     'set_seed':False,\n",
    "#                      }\n",
    "\n",
    "# network = MLP_NonlinearEncoder(**encoder_parameters).to(device)"
   ]
  },
  {
   "cell_type": "code",
   "execution_count": 48,
   "id": "a20dd8c7",
   "metadata": {},
   "outputs": [],
   "source": [
    "# root_checkpoints = 'results/mlp_nonlinear/swiss_roll'\n",
    "# hdim = encoder_parameters['hidden_dim']\n",
    "# lnum = encoder_parameters['layers_number']\n",
    "# Wgrad = int(encoder_parameters['W_requires_grad'])\n",
    "# fgrad = int(encoder_parameters['f_requires_grad'])\n",
    "# fname = encoder_parameters['nonlinearity'].__name__\n",
    "# bn = int(encoder_parameters['add_bn'])\n",
    "# hebb_train = training_parameters['hebbian_learning']\n",
    "# hebb_train = 'hebb_' if hebb_train else ''\n",
    "# bp_train = training_parameters['backprop_learning']\n",
    "# bp_train = 'bp_' if bp_train else ''\n",
    "\n",
    "# experiment_name = 'MLP_' + hebb_train + bp_train + f'hdim-{hdim}' + \\\n",
    "#                   f'_lnum-{lnum}' + f'_Wgrad-{Wgrad}' + f'_fgrad-{fgrad}' + f'_{fname}' + f'_bn-{bn}'\n",
    "\n",
    "# checkpoint_name = os.path.join(root_checkpoints, experiment_name)\n",
    "# torch.save(network.state_dict(), checkpoint_name)"
   ]
  },
  {
   "cell_type": "code",
   "execution_count": 47,
   "id": "de43eee2",
   "metadata": {},
   "outputs": [],
   "source": [
    "# n_fs = len(network.f_s)\n",
    "# ξ = torch.linspace(-5,5,1000).to(device)\n",
    "\n",
    "# for layer in range(n_fs):\n",
    "#     f_theta = network.f_s[layer]\n",
    "#     if network.final_nonlinearity or layer < n_fs-1:\n",
    "#         n_neurons = f_theta.input_dim\n",
    "#         y = torch.stack([ξ for _ in range(n_neurons)],0) # [n_neurons, T]\n",
    "\n",
    "#         f = to_numpy(f_theta(y)) # [n_neurons, T]\n",
    "\n",
    "#         fig, axes = plt.subplots(ncols=n_neurons, nrows=1, figsize=(n_neurons*3,3))\n",
    "\n",
    "#         for j,ax in enumerate(axes):\n",
    "#             ax.plot(to_numpy(ξ), f[j])\n",
    "#             ax.set_title(f'Neuron: {j}')\n",
    "\n",
    "#         fig.suptitle(f'Layer: {layer}', y=1.1, color='blue')\n",
    "    \n",
    "# plt.tight_layout()\n",
    "# plt.show()"
   ]
  },
  {
   "cell_type": "code",
   "execution_count": 48,
   "id": "29767650",
   "metadata": {},
   "outputs": [],
   "source": [
    "# plt.ioff()# Meta-learning\n",
    "# plt.figure()\n",
    "# df = pd.DataFrame(outpt_val_pred.T, columns=['x','y', 'z'])\n",
    "# if color is not None:\n",
    "#     df['target'] = color_test\n",
    "# fig = px.scatter_3d(df, x='x', y='y', z='z', color='target' if 'target' in df else None)\n",
    "\n",
    "# fig.show()"
   ]
  },
  {
   "cell_type": "code",
   "execution_count": 49,
   "id": "f4da0791",
   "metadata": {},
   "outputs": [],
   "source": [
    "# plt.ioff()\n",
    "# plt.figure()\n",
    "# df = pd.DataFrame(np.concatenate([inpt_test, outpt_val_pred], axis=1).T, columns=['x','y', 'z'])\n",
    "\n",
    "# df['target'] = np.concatenate([np.zeros((inpt.shape[1])), \n",
    "#                                np.ones((inpt_test.shape[1]))])\n",
    "\n",
    "# fig = px.scatter_3d(df, x='x', y='y', z='z', color='target')\n",
    "\n",
    "# fig.show()"
   ]
  }
 ],
 "metadata": {
  "kernelspec": {
   "display_name": "Python 3 (ipykernel)",
   "language": "python",
   "name": "python3"
  },
  "language_info": {
   "codemirror_mode": {
    "name": "ipython",
    "version": 3
   },
   "file_extension": ".py",
   "mimetype": "text/x-python",
   "name": "python",
   "nbconvert_exporter": "python",
   "pygments_lexer": "ipython3",
   "version": "3.8.13"
  }
 },
 "nbformat": 4,
 "nbformat_minor": 5
}
