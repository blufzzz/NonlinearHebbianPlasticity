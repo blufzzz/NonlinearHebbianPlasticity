{
 "cells": [
  {
   "cell_type": "markdown",
   "metadata": {},
   "source": [
    "### This code illustrates the fast AI implementation of the unsupervised \"biological\" learning algorithm from [Unsupervised Learning by Competing Hidden Units](https://doi.org/10.1073/pnas.1820458116) on MNIST data set. \n",
    "If you want to learn more about this work you can also check out this [lecture](https://www.youtube.com/watch?v=4lY-oAY0aQU) from MIT's [6.S191 course](http://introtodeeplearning.com/). "
   ]
  },
  {
   "cell_type": "markdown",
   "metadata": {},
   "source": [
    "This cell loads the data and normalizes it to the [0,1] range"
   ]
  },
  {
   "cell_type": "code",
   "execution_count": 1,
   "metadata": {},
   "outputs": [],
   "source": [
    "import scipy.io\n",
    "import torch\n",
    "import numpy as np\n",
    "from tqdm import tqdm\n",
    "import matplotlib.pyplot as plt\n",
    "from IPython.display import clear_output\n",
    "\n",
    "from input_utils import *\n",
    "from metric_utils import *\n",
    "from train_utils import g_krotov"
   ]
  },
  {
   "cell_type": "code",
   "execution_count": 2,
   "metadata": {},
   "outputs": [],
   "source": [
    "def ReLU_N(x, k=2):\n",
    "    mask = x > 0\n",
    "    x[mask] = x[mask]**k\n",
    "    x[~mask] = 0\n",
    "    return x"
   ]
  },
  {
   "cell_type": "code",
   "execution_count": 3,
   "metadata": {},
   "outputs": [],
   "source": [
    "# def draw_weights(synapses, Kx, Ky):\n",
    "#     yy=0\n",
    "#     HM=np.zeros((28*Ky,28*Kx))\n",
    "#     for y in range(Ky):\n",
    "#         for x in range(Kx):\n",
    "#             HM[y*28:(y+1)*28,x*28:(x+1)*28]=synapses[yy,:].reshape(28,28)\n",
    "#             yy += 1\n",
    "#     plt.clf()\n",
    "#     nc=np.amax(np.absolute(HM))\n",
    "#     im=plt.imshow(HM,cmap='bwr',vmin=-nc,vmax=nc)\n",
    "#     fig.colorbar(im,ticks=[np.amin(HM), 0, np.amax(HM)])\n",
    "#     plt.axis('off')\n",
    "#     fig.canvas.draw()   "
   ]
  },
  {
   "cell_type": "code",
   "execution_count": 4,
   "metadata": {},
   "outputs": [],
   "source": [
    "def draw_weights(synapses, Kx, Ky):\n",
    "    \n",
    "    fig, axes = plt.subplots(nrows=Ky, ncols=Kx, figsize=(10,10), dpi=100)\n",
    "    for y in range(Ky):\n",
    "        for x in range(Kx):\n",
    "            axes[y,x].imshow(synapses[y*Ky+x,:].reshape(28,28))\n",
    "    \n",
    "    plt.axis('off')\n",
    "    plt.show()    "
   ]
  },
  {
   "cell_type": "markdown",
   "metadata": {},
   "source": [
    "This cell defines paramaters of the algorithm: `eps0` - initial learning rate that is linearly annealed during training; `hid` - number of hidden units that are displayed as an `Ky` by `Kx` array by the helper function defined above; `mu` - the mean of the gaussian distribution that initializes the weights; `sigma` - the standard deviation of that gaussian; `Nep` - number of epochs; `Num` - size of the minibatch; `prec` - parameter that controls numerical precision of the weight updates; `delta` - the strength of the anti-hebbian learning; `p` - Lebesgue norm of the weights; `k` - ranking parameter. "
   ]
  },
  {
   "cell_type": "code",
   "execution_count": 12,
   "metadata": {},
   "outputs": [],
   "source": [
    "device='cpu'\n",
    "mat = scipy.io.loadmat('mnist_all.mat')\n",
    "\n",
    "d=784\n",
    "Nc=10\n",
    "T=60000\n",
    "\n",
    "input_data=np.zeros((0,d))\n",
    "test_data=np.zeros((0,d))\n",
    "\n",
    "for i in range(Nc):\n",
    "    input_data=np.concatenate((input_data, mat['train'+str(i)]), axis=0)\n",
    "    \n",
    "test_color = []\n",
    "for i in range(10):\n",
    "    test_data=np.concatenate((test_data, mat['test'+str(i)]), axis=0)\n",
    "    test_color.append(np.ones((test_data.shape[0]))*i)\n",
    "    \n",
    "test_color = np.concatenate(test_color)\n",
    "\n",
    "# input_data = StandardScaler().fit_transform(input_data.T).T\n",
    "# test_data = StandardScaler().fit_transform(test_data.T).T\n",
    "\n",
    "input_data = 2*(input_data/255.) - 1\n",
    "test_data = 2*(test_data/255.) - 1\n",
    "\n",
    "input_data = torch.tensor(input_data, device=device, dtype=torch.float64)\n",
    "test_data = torch.tensor(test_data, device=device, dtype=torch.float64)"
   ]
  },
  {
   "cell_type": "code",
   "execution_count": 13,
   "metadata": {},
   "outputs": [
    {
     "data": {
      "text/plain": [
       "torch.Size([60000, 784])"
      ]
     },
     "execution_count": 13,
     "metadata": {},
     "output_type": "execute_result"
    }
   ],
   "source": [
    "input_data.shape"
   ]
  },
  {
   "cell_type": "code",
   "execution_count": 14,
   "metadata": {},
   "outputs": [
    {
     "data": {
      "text/plain": [
       "(tensor(-1., dtype=torch.float64), tensor(1., dtype=torch.float64))"
      ]
     },
     "execution_count": 14,
     "metadata": {},
     "output_type": "execute_result"
    }
   ],
   "source": [
    "input_data.min(), input_data.max()"
   ]
  },
  {
   "cell_type": "code",
   "execution_count": 15,
   "metadata": {},
   "outputs": [
    {
     "data": {
      "text/plain": [
       "<matplotlib.colorbar.Colorbar at 0x7fd214dc44f0>"
      ]
     },
     "execution_count": 15,
     "metadata": {},
     "output_type": "execute_result"
    },
    {
     "data": {
      "image/png": "[encoded data removed]",
      "text/plain": [
       "<Figure size 432x288 with 2 Axes>"
      ]
     },
     "metadata": {
      "needs_background": "light"
     },
     "output_type": "display_data"
    }
   ],
   "source": [
    "plt.imshow(input_data[0].reshape(28,28))\n",
    "plt.colorbar()"
   ]
  },
  {
   "cell_type": "code",
   "execution_count": 16,
   "metadata": {},
   "outputs": [],
   "source": [
    "Kx=10\n",
    "Ky=10\n",
    "h=Kx*Ky    # number of hidden units that are displayed in Ky by Kx array\n",
    "mu=0.0\n",
    "sigma=1.0\n",
    "\n",
    "synapses = np.random.normal(mu, sigma, (h, d))\n",
    "W = torch.tensor(synapses, device=device, dtype=torch.float64)\n",
    "\n",
    "synapses_r = -np.absolute(np.random.normal(mu, sigma, (h, h)))\n",
    "\n",
    "W_r = torch.tensor(synapses_r, device=device, dtype=torch.float64)\n",
    "W_r[np.triu_indices_from(W_r)] = 0\n",
    "W_r[np.diag_indices_from(W_r)] = 1"
   ]
  },
  {
   "cell_type": "code",
   "execution_count": 17,
   "metadata": {},
   "outputs": [],
   "source": [
    "epochs=200      # number of epochs\n",
    "batch_size = 32      # size of the minibatch\n",
    "eps0=1e-3    # learning rate\n",
    "prec = 1e-1"
   ]
  },
  {
   "cell_type": "code",
   "execution_count": 20,
   "metadata": {
    "collapsed": true
   },
   "outputs": [
    {
     "name": "stderr",
     "output_type": "stream",
     "text": [
      "  0%|                                                                                                                                        | 0/200 [00:02<?, ?it/s]\n"
     ]
    },
    {
     "ename": "KeyboardInterrupt",
     "evalue": "",
     "output_type": "error",
     "traceback": [
      "\u001b[0;31m---------------------------------------------------------------------------\u001b[0m",
      "\u001b[0;31mKeyboardInterrupt\u001b[0m                         Traceback (most recent call last)",
      "Input \u001b[0;32mIn [20]\u001b[0m, in \u001b[0;36m<cell line: 3>\u001b[0;34m()\u001b[0m\n\u001b[1;32m     32\u001b[0m     W_r[W_r \u001b[38;5;241m>\u001b[39m \u001b[38;5;241m0\u001b[39m] \u001b[38;5;241m=\u001b[39m \u001b[38;5;241m0\u001b[39m\n\u001b[1;32m     35\u001b[0m clear_output(wait\u001b[38;5;241m=\u001b[39m\u001b[38;5;28;01mTrue\u001b[39;00m)\n\u001b[0;32m---> 36\u001b[0m \u001b[43mdraw_weights\u001b[49m\u001b[43m(\u001b[49m\u001b[43mto_numpy\u001b[49m\u001b[43m(\u001b[49m\u001b[43mW\u001b[49m\u001b[43m)\u001b[49m\u001b[43m,\u001b[49m\u001b[43m \u001b[49m\u001b[43mKx\u001b[49m\u001b[43m,\u001b[49m\u001b[43m \u001b[49m\u001b[43mKy\u001b[49m\u001b[43m)\u001b[49m\n",
      "Input \u001b[0;32mIn [4]\u001b[0m, in \u001b[0;36mdraw_weights\u001b[0;34m(synapses, Kx, Ky)\u001b[0m\n\u001b[1;32m     13\u001b[0m     plt\u001b[38;5;241m.\u001b[39maxis(\u001b[38;5;124m'\u001b[39m\u001b[38;5;124moff\u001b[39m\u001b[38;5;124m'\u001b[39m)\n\u001b[1;32m     14\u001b[0m \u001b[38;5;66;03m#     fig.canvas.draw()  \u001b[39;00m\n\u001b[0;32m---> 15\u001b[0m     \u001b[43mplt\u001b[49m\u001b[38;5;241;43m.\u001b[39;49m\u001b[43mshow\u001b[49m\u001b[43m(\u001b[49m\u001b[43m)\u001b[49m\n",
      "File \u001b[0;32m~/miniconda3/envs/neuro/lib/python3.8/site-packages/matplotlib/pyplot.py:389\u001b[0m, in \u001b[0;36mshow\u001b[0;34m(*args, **kwargs)\u001b[0m\n\u001b[1;32m    345\u001b[0m \u001b[38;5;124;03m\"\"\"\u001b[39;00m\n\u001b[1;32m    346\u001b[0m \u001b[38;5;124;03mDisplay all open figures.\u001b[39;00m\n\u001b[1;32m    347\u001b[0m \n\u001b[0;32m   (...)\u001b[0m\n\u001b[1;32m    386\u001b[0m \u001b[38;5;124;03mexplicitly there.\u001b[39;00m\n\u001b[1;32m    387\u001b[0m \u001b[38;5;124;03m\"\"\"\u001b[39;00m\n\u001b[1;32m    388\u001b[0m _warn_if_gui_out_of_main_thread()\n\u001b[0;32m--> 389\u001b[0m \u001b[38;5;28;01mreturn\u001b[39;00m \u001b[43m_get_backend_mod\u001b[49m\u001b[43m(\u001b[49m\u001b[43m)\u001b[49m\u001b[38;5;241;43m.\u001b[39;49m\u001b[43mshow\u001b[49m\u001b[43m(\u001b[49m\u001b[38;5;241;43m*\u001b[39;49m\u001b[43margs\u001b[49m\u001b[43m,\u001b[49m\u001b[43m \u001b[49m\u001b[38;5;241;43m*\u001b[39;49m\u001b[38;5;241;43m*\u001b[39;49m\u001b[43mkwargs\u001b[49m\u001b[43m)\u001b[49m\n",
      "File \u001b[0;32m~/miniconda3/envs/neuro/lib/python3.8/site-packages/matplotlib_inline/backend_inline.py:43\u001b[0m, in \u001b[0;36mshow\u001b[0;34m(close, block)\u001b[0m\n\u001b[1;32m     39\u001b[0m \u001b[38;5;28;01mtry\u001b[39;00m:\n\u001b[1;32m     40\u001b[0m     \u001b[38;5;28;01mfor\u001b[39;00m figure_manager \u001b[38;5;129;01min\u001b[39;00m Gcf\u001b[38;5;241m.\u001b[39mget_all_fig_managers():\n\u001b[1;32m     41\u001b[0m         display(\n\u001b[1;32m     42\u001b[0m             figure_manager\u001b[38;5;241m.\u001b[39mcanvas\u001b[38;5;241m.\u001b[39mfigure,\n\u001b[0;32m---> 43\u001b[0m             metadata\u001b[38;5;241m=\u001b[39m\u001b[43m_fetch_figure_metadata\u001b[49m\u001b[43m(\u001b[49m\u001b[43mfigure_manager\u001b[49m\u001b[38;5;241;43m.\u001b[39;49m\u001b[43mcanvas\u001b[49m\u001b[38;5;241;43m.\u001b[39;49m\u001b[43mfigure\u001b[49m\u001b[43m)\u001b[49m\n\u001b[1;32m     44\u001b[0m         )\n\u001b[1;32m     45\u001b[0m \u001b[38;5;28;01mfinally\u001b[39;00m:\n\u001b[1;32m     46\u001b[0m     show\u001b[38;5;241m.\u001b[39m_to_draw \u001b[38;5;241m=\u001b[39m []\n",
      "File \u001b[0;32m~/miniconda3/envs/neuro/lib/python3.8/site-packages/matplotlib_inline/backend_inline.py:231\u001b[0m, in \u001b[0;36m_fetch_figure_metadata\u001b[0;34m(fig)\u001b[0m\n\u001b[1;32m    228\u001b[0m \u001b[38;5;66;03m# determine if a background is needed for legibility\u001b[39;00m\n\u001b[1;32m    229\u001b[0m \u001b[38;5;28;01mif\u001b[39;00m _is_transparent(fig\u001b[38;5;241m.\u001b[39mget_facecolor()):\n\u001b[1;32m    230\u001b[0m     \u001b[38;5;66;03m# the background is transparent\u001b[39;00m\n\u001b[0;32m--> 231\u001b[0m     ticksLight \u001b[38;5;241m=\u001b[39m _is_light([label\u001b[38;5;241m.\u001b[39mget_color()\n\u001b[1;32m    232\u001b[0m                             \u001b[38;5;28;01mfor\u001b[39;00m axes \u001b[38;5;129;01min\u001b[39;00m fig\u001b[38;5;241m.\u001b[39maxes\n\u001b[1;32m    233\u001b[0m                             \u001b[38;5;28;01mfor\u001b[39;00m axis \u001b[38;5;129;01min\u001b[39;00m (axes\u001b[38;5;241m.\u001b[39mxaxis, axes\u001b[38;5;241m.\u001b[39myaxis)\n\u001b[1;32m    234\u001b[0m                             \u001b[38;5;28;01mfor\u001b[39;00m label \u001b[38;5;129;01min\u001b[39;00m axis\u001b[38;5;241m.\u001b[39mget_ticklabels()])\n\u001b[1;32m    235\u001b[0m     \u001b[38;5;28;01mif\u001b[39;00m ticksLight\u001b[38;5;241m.\u001b[39msize \u001b[38;5;129;01mand\u001b[39;00m (ticksLight \u001b[38;5;241m==\u001b[39m ticksLight[\u001b[38;5;241m0\u001b[39m])\u001b[38;5;241m.\u001b[39mall():\n\u001b[1;32m    236\u001b[0m         \u001b[38;5;66;03m# there are one or more tick labels, all with the same lightness\u001b[39;00m\n\u001b[1;32m    237\u001b[0m         \u001b[38;5;28;01mreturn\u001b[39;00m {\u001b[38;5;124m'\u001b[39m\u001b[38;5;124mneeds_background\u001b[39m\u001b[38;5;124m'\u001b[39m: \u001b[38;5;124m'\u001b[39m\u001b[38;5;124mdark\u001b[39m\u001b[38;5;124m'\u001b[39m \u001b[38;5;28;01mif\u001b[39;00m ticksLight[\u001b[38;5;241m0\u001b[39m] \u001b[38;5;28;01melse\u001b[39;00m \u001b[38;5;124m'\u001b[39m\u001b[38;5;124mlight\u001b[39m\u001b[38;5;124m'\u001b[39m}\n",
      "File \u001b[0;32m~/miniconda3/envs/neuro/lib/python3.8/site-packages/matplotlib_inline/backend_inline.py:234\u001b[0m, in \u001b[0;36m<listcomp>\u001b[0;34m(.0)\u001b[0m\n\u001b[1;32m    228\u001b[0m \u001b[38;5;66;03m# determine if a background is needed for legibility\u001b[39;00m\n\u001b[1;32m    229\u001b[0m \u001b[38;5;28;01mif\u001b[39;00m _is_transparent(fig\u001b[38;5;241m.\u001b[39mget_facecolor()):\n\u001b[1;32m    230\u001b[0m     \u001b[38;5;66;03m# the background is transparent\u001b[39;00m\n\u001b[1;32m    231\u001b[0m     ticksLight \u001b[38;5;241m=\u001b[39m _is_light([label\u001b[38;5;241m.\u001b[39mget_color()\n\u001b[1;32m    232\u001b[0m                             \u001b[38;5;28;01mfor\u001b[39;00m axes \u001b[38;5;129;01min\u001b[39;00m fig\u001b[38;5;241m.\u001b[39maxes\n\u001b[1;32m    233\u001b[0m                             \u001b[38;5;28;01mfor\u001b[39;00m axis \u001b[38;5;129;01min\u001b[39;00m (axes\u001b[38;5;241m.\u001b[39mxaxis, axes\u001b[38;5;241m.\u001b[39myaxis)\n\u001b[0;32m--> 234\u001b[0m                             \u001b[38;5;28;01mfor\u001b[39;00m label \u001b[38;5;129;01min\u001b[39;00m \u001b[43maxis\u001b[49m\u001b[38;5;241;43m.\u001b[39;49m\u001b[43mget_ticklabels\u001b[49m\u001b[43m(\u001b[49m\u001b[43m)\u001b[49m])\n\u001b[1;32m    235\u001b[0m     \u001b[38;5;28;01mif\u001b[39;00m ticksLight\u001b[38;5;241m.\u001b[39msize \u001b[38;5;129;01mand\u001b[39;00m (ticksLight \u001b[38;5;241m==\u001b[39m ticksLight[\u001b[38;5;241m0\u001b[39m])\u001b[38;5;241m.\u001b[39mall():\n\u001b[1;32m    236\u001b[0m         \u001b[38;5;66;03m# there are one or more tick labels, all with the same lightness\u001b[39;00m\n\u001b[1;32m    237\u001b[0m         \u001b[38;5;28;01mreturn\u001b[39;00m {\u001b[38;5;124m'\u001b[39m\u001b[38;5;124mneeds_background\u001b[39m\u001b[38;5;124m'\u001b[39m: \u001b[38;5;124m'\u001b[39m\u001b[38;5;124mdark\u001b[39m\u001b[38;5;124m'\u001b[39m \u001b[38;5;28;01mif\u001b[39;00m ticksLight[\u001b[38;5;241m0\u001b[39m] \u001b[38;5;28;01melse\u001b[39;00m \u001b[38;5;124m'\u001b[39m\u001b[38;5;124mlight\u001b[39m\u001b[38;5;124m'\u001b[39m}\n",
      "File \u001b[0;32m~/miniconda3/envs/neuro/lib/python3.8/site-packages/matplotlib/axis.py:1249\u001b[0m, in \u001b[0;36mAxis.get_ticklabels\u001b[0;34m(self, minor, which)\u001b[0m\n\u001b[1;32m   1247\u001b[0m \u001b[38;5;28;01mif\u001b[39;00m minor:\n\u001b[1;32m   1248\u001b[0m     \u001b[38;5;28;01mreturn\u001b[39;00m \u001b[38;5;28mself\u001b[39m\u001b[38;5;241m.\u001b[39mget_minorticklabels()\n\u001b[0;32m-> 1249\u001b[0m \u001b[38;5;28;01mreturn\u001b[39;00m \u001b[38;5;28;43mself\u001b[39;49m\u001b[38;5;241;43m.\u001b[39;49m\u001b[43mget_majorticklabels\u001b[49m\u001b[43m(\u001b[49m\u001b[43m)\u001b[49m\n",
      "File \u001b[0;32m~/miniconda3/envs/neuro/lib/python3.8/site-packages/matplotlib/axis.py:1201\u001b[0m, in \u001b[0;36mAxis.get_majorticklabels\u001b[0;34m(self)\u001b[0m\n\u001b[1;32m   1199\u001b[0m \u001b[38;5;28;01mdef\u001b[39;00m \u001b[38;5;21mget_majorticklabels\u001b[39m(\u001b[38;5;28mself\u001b[39m):\n\u001b[1;32m   1200\u001b[0m     \u001b[38;5;124;03m\"\"\"Return this Axis' major tick labels, as a list of `~.text.Text`.\"\"\"\u001b[39;00m\n\u001b[0;32m-> 1201\u001b[0m     ticks \u001b[38;5;241m=\u001b[39m \u001b[38;5;28;43mself\u001b[39;49m\u001b[38;5;241;43m.\u001b[39;49m\u001b[43mget_major_ticks\u001b[49m\u001b[43m(\u001b[49m\u001b[43m)\u001b[49m\n\u001b[1;32m   1202\u001b[0m     labels1 \u001b[38;5;241m=\u001b[39m [tick\u001b[38;5;241m.\u001b[39mlabel1 \u001b[38;5;28;01mfor\u001b[39;00m tick \u001b[38;5;129;01min\u001b[39;00m ticks \u001b[38;5;28;01mif\u001b[39;00m tick\u001b[38;5;241m.\u001b[39mlabel1\u001b[38;5;241m.\u001b[39mget_visible()]\n\u001b[1;32m   1203\u001b[0m     labels2 \u001b[38;5;241m=\u001b[39m [tick\u001b[38;5;241m.\u001b[39mlabel2 \u001b[38;5;28;01mfor\u001b[39;00m tick \u001b[38;5;129;01min\u001b[39;00m ticks \u001b[38;5;28;01mif\u001b[39;00m tick\u001b[38;5;241m.\u001b[39mlabel2\u001b[38;5;241m.\u001b[39mget_visible()]\n",
      "File \u001b[0;32m~/miniconda3/envs/neuro/lib/python3.8/site-packages/matplotlib/axis.py:1375\u001b[0m, in \u001b[0;36mAxis.get_major_ticks\u001b[0;34m(self, numticks)\u001b[0m\n\u001b[1;32m   1371\u001b[0m     numticks \u001b[38;5;241m=\u001b[39m \u001b[38;5;28mlen\u001b[39m(\u001b[38;5;28mself\u001b[39m\u001b[38;5;241m.\u001b[39mget_majorticklocs())\n\u001b[1;32m   1373\u001b[0m \u001b[38;5;28;01mwhile\u001b[39;00m \u001b[38;5;28mlen\u001b[39m(\u001b[38;5;28mself\u001b[39m\u001b[38;5;241m.\u001b[39mmajorTicks) \u001b[38;5;241m<\u001b[39m numticks:\n\u001b[1;32m   1374\u001b[0m     \u001b[38;5;66;03m# Update the new tick label properties from the old.\u001b[39;00m\n\u001b[0;32m-> 1375\u001b[0m     tick \u001b[38;5;241m=\u001b[39m \u001b[38;5;28;43mself\u001b[39;49m\u001b[38;5;241;43m.\u001b[39;49m\u001b[43m_get_tick\u001b[49m\u001b[43m(\u001b[49m\u001b[43mmajor\u001b[49m\u001b[38;5;241;43m=\u001b[39;49m\u001b[38;5;28;43;01mTrue\u001b[39;49;00m\u001b[43m)\u001b[49m\n\u001b[1;32m   1376\u001b[0m     \u001b[38;5;28mself\u001b[39m\u001b[38;5;241m.\u001b[39mmajorTicks\u001b[38;5;241m.\u001b[39mappend(tick)\n\u001b[1;32m   1377\u001b[0m     \u001b[38;5;28mself\u001b[39m\u001b[38;5;241m.\u001b[39m_copy_tick_props(\u001b[38;5;28mself\u001b[39m\u001b[38;5;241m.\u001b[39mmajorTicks[\u001b[38;5;241m0\u001b[39m], tick)\n",
      "File \u001b[0;32m~/miniconda3/envs/neuro/lib/python3.8/site-packages/matplotlib/axis.py:2322\u001b[0m, in \u001b[0;36mYAxis._get_tick\u001b[0;34m(self, major)\u001b[0m\n\u001b[1;32m   2320\u001b[0m \u001b[38;5;28;01melse\u001b[39;00m:\n\u001b[1;32m   2321\u001b[0m     tick_kw \u001b[38;5;241m=\u001b[39m \u001b[38;5;28mself\u001b[39m\u001b[38;5;241m.\u001b[39m_minor_tick_kw\n\u001b[0;32m-> 2322\u001b[0m \u001b[38;5;28;01mreturn\u001b[39;00m \u001b[43mYTick\u001b[49m\u001b[43m(\u001b[49m\u001b[38;5;28;43mself\u001b[39;49m\u001b[38;5;241;43m.\u001b[39;49m\u001b[43maxes\u001b[49m\u001b[43m,\u001b[49m\u001b[43m \u001b[49m\u001b[38;5;241;43m0\u001b[39;49m\u001b[43m,\u001b[49m\u001b[43m \u001b[49m\u001b[43mmajor\u001b[49m\u001b[38;5;241;43m=\u001b[39;49m\u001b[43mmajor\u001b[49m\u001b[43m,\u001b[49m\u001b[43m \u001b[49m\u001b[38;5;241;43m*\u001b[39;49m\u001b[38;5;241;43m*\u001b[39;49m\u001b[43mtick_kw\u001b[49m\u001b[43m)\u001b[49m\n",
      "File \u001b[0;32m~/miniconda3/envs/neuro/lib/python3.8/site-packages/matplotlib/axis.py:476\u001b[0m, in \u001b[0;36mYTick.__init__\u001b[0;34m(self, *args, **kwargs)\u001b[0m\n\u001b[1;32m    475\u001b[0m \u001b[38;5;28;01mdef\u001b[39;00m \u001b[38;5;21m__init__\u001b[39m(\u001b[38;5;28mself\u001b[39m, \u001b[38;5;241m*\u001b[39margs, \u001b[38;5;241m*\u001b[39m\u001b[38;5;241m*\u001b[39mkwargs):\n\u001b[0;32m--> 476\u001b[0m     \u001b[38;5;28;43msuper\u001b[39;49m\u001b[43m(\u001b[49m\u001b[43m)\u001b[49m\u001b[38;5;241;43m.\u001b[39;49m\u001b[38;5;21;43m__init__\u001b[39;49m\u001b[43m(\u001b[49m\u001b[38;5;241;43m*\u001b[39;49m\u001b[43margs\u001b[49m\u001b[43m,\u001b[49m\u001b[43m \u001b[49m\u001b[38;5;241;43m*\u001b[39;49m\u001b[38;5;241;43m*\u001b[39;49m\u001b[43mkwargs\u001b[49m\u001b[43m)\u001b[49m\n\u001b[1;32m    477\u001b[0m     \u001b[38;5;66;03m# x in axes coords, y in data coords\u001b[39;00m\n\u001b[1;32m    478\u001b[0m     ax \u001b[38;5;241m=\u001b[39m \u001b[38;5;28mself\u001b[39m\u001b[38;5;241m.\u001b[39maxes\n",
      "File \u001b[0;32m~/miniconda3/envs/neuro/lib/python3.8/site-packages/matplotlib/axis.py:168\u001b[0m, in \u001b[0;36mTick.__init__\u001b[0;34m(self, axes, loc, size, width, color, tickdir, pad, labelsize, labelcolor, zorder, gridOn, tick1On, tick2On, label1On, label2On, major, labelrotation, grid_color, grid_linestyle, grid_linewidth, grid_alpha, **kw)\u001b[0m\n\u001b[1;32m    160\u001b[0m \u001b[38;5;28mself\u001b[39m\u001b[38;5;241m.\u001b[39mgridline \u001b[38;5;241m=\u001b[39m mlines\u001b[38;5;241m.\u001b[39mLine2D(\n\u001b[1;32m    161\u001b[0m     [], [],\n\u001b[1;32m    162\u001b[0m     color\u001b[38;5;241m=\u001b[39mgrid_color, alpha\u001b[38;5;241m=\u001b[39mgrid_alpha, visible\u001b[38;5;241m=\u001b[39mgridOn,\n\u001b[1;32m    163\u001b[0m     linestyle\u001b[38;5;241m=\u001b[39mgrid_linestyle, linewidth\u001b[38;5;241m=\u001b[39mgrid_linewidth, marker\u001b[38;5;241m=\u001b[39m\u001b[38;5;124m\"\u001b[39m\u001b[38;5;124m\"\u001b[39m,\n\u001b[1;32m    164\u001b[0m     \u001b[38;5;241m*\u001b[39m\u001b[38;5;241m*\u001b[39mgrid_kw,\n\u001b[1;32m    165\u001b[0m )\n\u001b[1;32m    166\u001b[0m \u001b[38;5;28mself\u001b[39m\u001b[38;5;241m.\u001b[39mgridline\u001b[38;5;241m.\u001b[39mget_path()\u001b[38;5;241m.\u001b[39m_interpolation_steps \u001b[38;5;241m=\u001b[39m \\\n\u001b[1;32m    167\u001b[0m     GRIDLINE_INTERPOLATION_STEPS\n\u001b[0;32m--> 168\u001b[0m \u001b[38;5;28mself\u001b[39m\u001b[38;5;241m.\u001b[39mlabel1 \u001b[38;5;241m=\u001b[39m \u001b[43mmtext\u001b[49m\u001b[38;5;241;43m.\u001b[39;49m\u001b[43mText\u001b[49m\u001b[43m(\u001b[49m\n\u001b[1;32m    169\u001b[0m \u001b[43m    \u001b[49m\u001b[43mnp\u001b[49m\u001b[38;5;241;43m.\u001b[39;49m\u001b[43mnan\u001b[49m\u001b[43m,\u001b[49m\u001b[43m \u001b[49m\u001b[43mnp\u001b[49m\u001b[38;5;241;43m.\u001b[39;49m\u001b[43mnan\u001b[49m\u001b[43m,\u001b[49m\n\u001b[1;32m    170\u001b[0m \u001b[43m    \u001b[49m\u001b[43mfontsize\u001b[49m\u001b[38;5;241;43m=\u001b[39;49m\u001b[43mlabelsize\u001b[49m\u001b[43m,\u001b[49m\u001b[43m \u001b[49m\u001b[43mcolor\u001b[49m\u001b[38;5;241;43m=\u001b[39;49m\u001b[43mlabelcolor\u001b[49m\u001b[43m,\u001b[49m\u001b[43m \u001b[49m\u001b[43mvisible\u001b[49m\u001b[38;5;241;43m=\u001b[39;49m\u001b[43mlabel1On\u001b[49m\u001b[43m,\u001b[49m\n\u001b[1;32m    171\u001b[0m \u001b[43m    \u001b[49m\u001b[43mrotation\u001b[49m\u001b[38;5;241;43m=\u001b[39;49m\u001b[38;5;28;43mself\u001b[39;49m\u001b[38;5;241;43m.\u001b[39;49m\u001b[43m_labelrotation\u001b[49m\u001b[43m[\u001b[49m\u001b[38;5;241;43m1\u001b[39;49m\u001b[43m]\u001b[49m\u001b[43m)\u001b[49m\n\u001b[1;32m    172\u001b[0m \u001b[38;5;28mself\u001b[39m\u001b[38;5;241m.\u001b[39mlabel2 \u001b[38;5;241m=\u001b[39m mtext\u001b[38;5;241m.\u001b[39mText(\n\u001b[1;32m    173\u001b[0m     np\u001b[38;5;241m.\u001b[39mnan, np\u001b[38;5;241m.\u001b[39mnan,\n\u001b[1;32m    174\u001b[0m     fontsize\u001b[38;5;241m=\u001b[39mlabelsize, color\u001b[38;5;241m=\u001b[39mlabelcolor, visible\u001b[38;5;241m=\u001b[39mlabel2On,\n\u001b[1;32m    175\u001b[0m     rotation\u001b[38;5;241m=\u001b[39m\u001b[38;5;28mself\u001b[39m\u001b[38;5;241m.\u001b[39m_labelrotation[\u001b[38;5;241m1\u001b[39m])\n\u001b[1;32m    177\u001b[0m \u001b[38;5;28mself\u001b[39m\u001b[38;5;241m.\u001b[39m_apply_tickdir(tickdir)\n",
      "File \u001b[0;32m~/miniconda3/envs/neuro/lib/python3.8/site-packages/matplotlib/text.py:160\u001b[0m, in \u001b[0;36mText.__init__\u001b[0;34m(self, x, y, text, color, verticalalignment, horizontalalignment, multialignment, fontproperties, rotation, linespacing, rotation_mode, usetex, wrap, transform_rotates_text, parse_math, **kwargs)\u001b[0m\n\u001b[1;32m    158\u001b[0m \u001b[38;5;28mself\u001b[39m\u001b[38;5;241m.\u001b[39m_linespacing \u001b[38;5;241m=\u001b[39m linespacing\n\u001b[1;32m    159\u001b[0m \u001b[38;5;28mself\u001b[39m\u001b[38;5;241m.\u001b[39mset_rotation_mode(rotation_mode)\n\u001b[0;32m--> 160\u001b[0m \u001b[38;5;28;43mself\u001b[39;49m\u001b[38;5;241;43m.\u001b[39;49m\u001b[43mupdate\u001b[49m\u001b[43m(\u001b[49m\u001b[43mkwargs\u001b[49m\u001b[43m)\u001b[49m\n",
      "File \u001b[0;32m~/miniconda3/envs/neuro/lib/python3.8/site-packages/matplotlib/text.py:172\u001b[0m, in \u001b[0;36mText.update\u001b[0;34m(self, kwargs)\u001b[0m\n\u001b[1;32m    170\u001b[0m \u001b[38;5;66;03m# Update bbox last, as it depends on font properties.\u001b[39;00m\n\u001b[1;32m    171\u001b[0m bbox \u001b[38;5;241m=\u001b[39m kwargs\u001b[38;5;241m.\u001b[39mpop(\u001b[38;5;124m\"\u001b[39m\u001b[38;5;124mbbox\u001b[39m\u001b[38;5;124m\"\u001b[39m, sentinel)\n\u001b[0;32m--> 172\u001b[0m \u001b[38;5;28;43msuper\u001b[39;49m\u001b[43m(\u001b[49m\u001b[43m)\u001b[49m\u001b[38;5;241;43m.\u001b[39;49m\u001b[43mupdate\u001b[49m\u001b[43m(\u001b[49m\u001b[43mkwargs\u001b[49m\u001b[43m)\u001b[49m\n\u001b[1;32m    173\u001b[0m \u001b[38;5;28;01mif\u001b[39;00m bbox \u001b[38;5;129;01mis\u001b[39;00m \u001b[38;5;129;01mnot\u001b[39;00m sentinel:\n\u001b[1;32m    174\u001b[0m     \u001b[38;5;28mself\u001b[39m\u001b[38;5;241m.\u001b[39mset_bbox(bbox)\n",
      "File \u001b[0;32m~/miniconda3/envs/neuro/lib/python3.8/site-packages/matplotlib/artist.py:1066\u001b[0m, in \u001b[0;36mArtist.update\u001b[0;34m(self, props)\u001b[0m\n\u001b[1;32m   1063\u001b[0m             \u001b[38;5;28;01mif\u001b[39;00m \u001b[38;5;129;01mnot\u001b[39;00m callable(func):\n\u001b[1;32m   1064\u001b[0m                 \u001b[38;5;28;01mraise\u001b[39;00m \u001b[38;5;167;01mAttributeError\u001b[39;00m(\u001b[38;5;124mf\u001b[39m\u001b[38;5;124m\"\u001b[39m\u001b[38;5;132;01m{\u001b[39;00m\u001b[38;5;28mtype\u001b[39m(\u001b[38;5;28mself\u001b[39m)\u001b[38;5;241m.\u001b[39m\u001b[38;5;18m__name__\u001b[39m\u001b[38;5;132;01m!r}\u001b[39;00m\u001b[38;5;124m object \u001b[39m\u001b[38;5;124m\"\u001b[39m\n\u001b[1;32m   1065\u001b[0m                                      \u001b[38;5;124mf\u001b[39m\u001b[38;5;124m\"\u001b[39m\u001b[38;5;124mhas no property \u001b[39m\u001b[38;5;132;01m{\u001b[39;00mk\u001b[38;5;132;01m!r}\u001b[39;00m\u001b[38;5;124m\"\u001b[39m)\n\u001b[0;32m-> 1066\u001b[0m             ret\u001b[38;5;241m.\u001b[39mappend(\u001b[43mfunc\u001b[49m\u001b[43m(\u001b[49m\u001b[43mv\u001b[49m\u001b[43m)\u001b[49m)\n\u001b[1;32m   1067\u001b[0m \u001b[38;5;28;01mif\u001b[39;00m ret:\n\u001b[1;32m   1068\u001b[0m     \u001b[38;5;28mself\u001b[39m\u001b[38;5;241m.\u001b[39mpchanged()\n",
      "File \u001b[0;32m~/miniconda3/envs/neuro/lib/python3.8/site-packages/matplotlib/artist.py:1010\u001b[0m, in \u001b[0;36mArtist.set_visible\u001b[0;34m(self, b)\u001b[0m\n\u001b[1;32m   1002\u001b[0m \u001b[38;5;124;03m\"\"\"\u001b[39;00m\n\u001b[1;32m   1003\u001b[0m \u001b[38;5;124;03mSet the artist's visibility.\u001b[39;00m\n\u001b[1;32m   1004\u001b[0m \n\u001b[0;32m   (...)\u001b[0m\n\u001b[1;32m   1007\u001b[0m \u001b[38;5;124;03mb : bool\u001b[39;00m\n\u001b[1;32m   1008\u001b[0m \u001b[38;5;124;03m\"\"\"\u001b[39;00m\n\u001b[1;32m   1009\u001b[0m \u001b[38;5;28mself\u001b[39m\u001b[38;5;241m.\u001b[39m_visible \u001b[38;5;241m=\u001b[39m b\n\u001b[0;32m-> 1010\u001b[0m \u001b[38;5;28;43mself\u001b[39;49m\u001b[38;5;241;43m.\u001b[39;49m\u001b[43mpchanged\u001b[49m\u001b[43m(\u001b[49m\u001b[43m)\u001b[49m\n\u001b[1;32m   1011\u001b[0m \u001b[38;5;28mself\u001b[39m\u001b[38;5;241m.\u001b[39mstale \u001b[38;5;241m=\u001b[39m \u001b[38;5;28;01mTrue\u001b[39;00m\n",
      "File \u001b[0;32m~/miniconda3/envs/neuro/lib/python3.8/site-packages/matplotlib/artist.py:416\u001b[0m, in \u001b[0;36mArtist.pchanged\u001b[0;34m(self)\u001b[0m\n\u001b[1;32m    405\u001b[0m \u001b[38;5;28;01mdef\u001b[39;00m \u001b[38;5;21mpchanged\u001b[39m(\u001b[38;5;28mself\u001b[39m):\n\u001b[1;32m    406\u001b[0m     \u001b[38;5;124;03m\"\"\"\u001b[39;00m\n\u001b[1;32m    407\u001b[0m \u001b[38;5;124;03m    Call all of the registered callbacks.\u001b[39;00m\n\u001b[1;32m    408\u001b[0m \n\u001b[0;32m   (...)\u001b[0m\n\u001b[1;32m    414\u001b[0m \u001b[38;5;124;03m    remove_callback\u001b[39;00m\n\u001b[1;32m    415\u001b[0m \u001b[38;5;124;03m    \"\"\"\u001b[39;00m\n\u001b[0;32m--> 416\u001b[0m     \u001b[38;5;28;43mself\u001b[39;49m\u001b[38;5;241;43m.\u001b[39;49m\u001b[43m_callbacks\u001b[49m\u001b[38;5;241;43m.\u001b[39;49m\u001b[43mprocess\u001b[49m\u001b[43m(\u001b[49m\u001b[38;5;124;43m\"\u001b[39;49m\u001b[38;5;124;43mpchanged\u001b[39;49m\u001b[38;5;124;43m\"\u001b[39;49m\u001b[43m)\u001b[49m\n",
      "File \u001b[0;32m~/miniconda3/envs/neuro/lib/python3.8/site-packages/matplotlib/cbook/__init__.py:283\u001b[0m, in \u001b[0;36mCallbackRegistry.process\u001b[0;34m(self, s, *args, **kwargs)\u001b[0m\n\u001b[1;32m    276\u001b[0m \u001b[38;5;28;01mdef\u001b[39;00m \u001b[38;5;21mprocess\u001b[39m(\u001b[38;5;28mself\u001b[39m, s, \u001b[38;5;241m*\u001b[39margs, \u001b[38;5;241m*\u001b[39m\u001b[38;5;241m*\u001b[39mkwargs):\n\u001b[1;32m    277\u001b[0m     \u001b[38;5;124;03m\"\"\"\u001b[39;00m\n\u001b[1;32m    278\u001b[0m \u001b[38;5;124;03m    Process signal *s*.\u001b[39;00m\n\u001b[1;32m    279\u001b[0m \n\u001b[1;32m    280\u001b[0m \u001b[38;5;124;03m    All of the functions registered to receive callbacks on *s* will be\u001b[39;00m\n\u001b[1;32m    281\u001b[0m \u001b[38;5;124;03m    called with ``*args`` and ``**kwargs``.\u001b[39;00m\n\u001b[1;32m    282\u001b[0m \u001b[38;5;124;03m    \"\"\"\u001b[39;00m\n\u001b[0;32m--> 283\u001b[0m     \u001b[38;5;28;01mfor\u001b[39;00m cid, ref \u001b[38;5;129;01min\u001b[39;00m \u001b[38;5;28;43mlist\u001b[39;49m\u001b[43m(\u001b[49m\u001b[38;5;28;43mself\u001b[39;49m\u001b[38;5;241;43m.\u001b[39;49m\u001b[43mcallbacks\u001b[49m\u001b[38;5;241;43m.\u001b[39;49m\u001b[43mget\u001b[49m\u001b[43m(\u001b[49m\u001b[43ms\u001b[49m\u001b[43m,\u001b[49m\u001b[43m \u001b[49m\u001b[43m{\u001b[49m\u001b[43m}\u001b[49m\u001b[43m)\u001b[49m\u001b[38;5;241;43m.\u001b[39;49m\u001b[43mitems\u001b[49m\u001b[43m(\u001b[49m\u001b[43m)\u001b[49m\u001b[43m)\u001b[49m:\n\u001b[1;32m    284\u001b[0m         func \u001b[38;5;241m=\u001b[39m ref()\n\u001b[1;32m    285\u001b[0m         \u001b[38;5;28;01mif\u001b[39;00m func \u001b[38;5;129;01mis\u001b[39;00m \u001b[38;5;129;01mnot\u001b[39;00m \u001b[38;5;28;01mNone\u001b[39;00m:\n",
      "\u001b[0;31mKeyboardInterrupt\u001b[0m: "
     ]
    }
   ],
   "source": [
    "%matplotlib inline\n",
    "\n",
    "for epoch in tqdm(range(epochs)):\n",
    "    \n",
    "    eps=eps0 #*(1 - (epoch/epochs))\n",
    "    \n",
    "    # shuffle data\n",
    "    input_data=input_data[np.random.permutation(T),:]\n",
    "    \n",
    "    for i in range(T//batch_size):\n",
    "        \n",
    "        batch = input_data[i*batch_size:(i+1)*batch_size,:] # take batch [T,d]\n",
    "        inpt = batch.T # [d,T]\n",
    "        \n",
    "        outpt = torch.tanh(W@inpt) \n",
    "        output_r = torch.tanh(W_r@outpt)\n",
    "        \n",
    "        xx = (output_r*outpt).sum(1)\n",
    "        dW = (output_r@inpt.T - xx.unsqueeze(1)*W) / batch_size\n",
    "        \n",
    "        dWr = -output_r@output_r.T / batch_size \n",
    "        \n",
    "#         dW = torch.true_divide(dW, max(1e-10, dW.abs().max()))\n",
    "#         dWr = torch.true_divide(dWr, max(1e-10, dWr.abs().max()))\n",
    "        \n",
    "        W += eps*dW\n",
    "        W_r += eps*dWr\n",
    "        \n",
    "        W_r[np.triu_indices_from(W_r)] = 0\n",
    "        W_r[np.diag_indices_from(W_r)] = 1\n",
    "        W_r[W_r > 0] = 0\n",
    "        \n",
    "    clear_output(wait=True)\n",
    "    draw_weights(to_numpy(W), Kx, Ky)     "
   ]
  },
  {
   "cell_type": "code",
   "execution_count": null,
   "metadata": {},
   "outputs": [],
   "source": [
    "draw_weights(to_numpy(W), Kx, Ky)    "
   ]
  },
  {
   "cell_type": "code",
   "execution_count": null,
   "metadata": {},
   "outputs": [],
   "source": [
    "plt.imshow(W_r == 0)\n",
    "plt.colorbar()\n",
    "plt.show()"
   ]
  },
  {
   "cell_type": "code",
   "execution_count": null,
   "metadata": {},
   "outputs": [],
   "source": [
    "# %matplotlib inline\n",
    "\n",
    "# for epoch in tqdm(range(epochs)):\n",
    "    \n",
    "#     eps=eps0 #*(1 - (epoch/epochs))\n",
    "    \n",
    "#     # shuffle data\n",
    "#     input_data=input_data[np.random.permutation(T),:]\n",
    "    \n",
    "#     for i in range(T//batch_size):\n",
    "        \n",
    "#         batch = input_data[i*batch_size:(i+1)*batch_size,:] # take batch [T,d]\n",
    "#         inpt = batch.T # [d,T]\n",
    "        \n",
    "#         outpt = W@inpt \n",
    "# #         outpt = torch.tanh(2*W@inpt)  \n",
    "#         dW = krotov_rule(inpt, outpt, W) \n",
    "#         dW /= batch_size # dW.abs().max()\n",
    "        \n",
    "#         W += eps*dW\n",
    "        \n",
    "#         W /= torch.norm(W, dim=1, keepdim=True) #- not working for some reason\n",
    "        \n",
    "#     clear_output(wait=True)\n",
    "#     draw_weights(to_numpy(W), Kx, Ky)        \n"
   ]
  },
  {
   "cell_type": "code",
   "execution_count": null,
   "metadata": {},
   "outputs": [],
   "source": [
    "# plt.figure()\n",
    "# for i in range(10):\n",
    "#     plt.hist((W@input_data.T)[i].flatten(), bins=100, alpha=0.1)\n",
    "# plt.show()"
   ]
  },
  {
   "cell_type": "code",
   "execution_count": null,
   "metadata": {},
   "outputs": [],
   "source": [
    "# x_linspace = np.linspace(-1,1,1000)\n",
    "# plt.plot(x_linspace, np.tanh(2*x_linspace))\n",
    "# plt.plot(x_linspace, x_linspace)"
   ]
  }
 ],
 "metadata": {
  "anaconda-cloud": {},
  "kernelspec": {
   "display_name": "Python 3 (ipykernel)",
   "language": "python",
   "name": "python3"
  },
  "language_info": {
   "codemirror_mode": {
    "name": "ipython",
    "version": 3
   },
   "file_extension": ".py",
   "mimetype": "text/x-python",
   "name": "python",
   "nbconvert_exporter": "python",
   "pygments_lexer": "ipython3",
   "version": "3.8.13"
  }
 },
 "nbformat": 4,
 "nbformat_minor": 1
}
