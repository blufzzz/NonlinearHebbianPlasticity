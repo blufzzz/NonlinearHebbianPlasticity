{
 "cells": [
  {
   "cell_type": "code",
   "execution_count": 63,
   "id": "223a1913",
   "metadata": {},
   "outputs": [
    {
     "name": "stdout",
     "output_type": "stream",
     "text": [
      "The autoreload extension is already loaded. To reload it, use:\n",
      "  %reload_ext autoreload\n"
     ]
    }
   ],
   "source": [
    "%load_ext autoreload \n",
    "\n",
    "from tqdm import tqdm\n",
    "import matplotlib.pyplot as plt\n",
    "import plotly.express as px\n",
    "import numpy as np\n",
    "from easydict import EasyDict as edict\n",
    "import yaml\n",
    "import pandas as pd\n",
    "import os\n",
    "\n",
    "from scipy.signal import convolve2d, convolve\n",
    "from scipy.signal.windows import blackman, gaussian\n",
    "import copy\n",
    "from sklearn.decomposition import PCA\n",
    "from sklearn.metrics import r2_score, make_scorer\n",
    "from sklearn.linear_model import Ridge, Lasso, LinearRegression\n",
    "from sklearn.preprocessing import MinMaxScaler, StandardScaler\n",
    "from sklearn.model_selection import cross_val_score\n",
    "from collections import defaultdict\n",
    "from joblib import Parallel, delayed\n",
    "from umap import UMAP\n",
    "\n",
    "from IPython.core.debugger import set_trace\n",
    "from IPython.display import clear_output\n",
    "\n",
    "import torch\n",
    "from torch import nn\n",
    "from torch import optim\n",
    "\n",
    "from network_utils import get_capacity, to_numpy, plot_weights_hist, L2_loss, train\n",
    "from input_utils import create_I\n",
    "\n",
    "plt.rcParams['font.size'] = 20\n",
    "device = torch.device('cuda:0')\n",
    "%autoreload 2"
   ]
  },
  {
   "cell_type": "code",
   "execution_count": 148,
   "id": "911fe7c5",
   "metadata": {},
   "outputs": [],
   "source": [
    "def init_weights(self):\n",
    "    for p in self.parameters():\n",
    "        nn.init.xavier_normal_(p)\n",
    "\n",
    "class f_theta(nn.Module):\n",
    "    \n",
    "    def __init__(self, input_dim, hidden_dim=100):\n",
    "        \n",
    "        super().__init__()\n",
    "        \n",
    "        self.input_dim = input_dim\n",
    "        self.hidden_dim = hidden_dim\n",
    "        \n",
    "        self.theta1 = nn.Parameter(torch.zeros(self.hidden_dim, self.input_dim, requires_grad=True))\n",
    "        self.bias1 = nn.Parameter(torch.zeros(self.hidden_dim, self.input_dim, requires_grad=True))\n",
    "        self.theta2 = nn.Parameter(torch.zeros(1, self.hidden_dim, requires_grad=True))\n",
    "        \n",
    "        init_weights(self)\n",
    "        \n",
    "    def forward(self, x):\n",
    "        \n",
    "        '''\n",
    "        x - [d, T]\n",
    "        '''\n",
    "        \n",
    "        x = torch.sigmoid(x.unsqueeze(0) * self.theta1.unsqueeze(-1) + self.bias1.unsqueeze(-1))\n",
    "        x = torch.einsum('mh,hdt->mdt', self.theta2, x).squeeze(0)\n",
    "        \n",
    "        return x\n",
    "    \n",
    "    \n",
    "# class f_theta(nn.Module):\n",
    "    \n",
    "#     def __init__(self, input_dim, hidden_dim=100):\n",
    "        \n",
    "#         super().__init__()\n",
    "        \n",
    "#         self.input_dim = input_dim\n",
    "#         self.hidden_dim = hidden_dim\n",
    "        \n",
    "#         self.linear1 = nn.Linear(1,hidden_dim)\n",
    "#         self.linear2 = nn.Linear(hidden_dim,1, bias=False)\n",
    "        \n",
    "# #         init_weights(self)\n",
    "        \n",
    "#     def forward(self, x):\n",
    "        \n",
    "#         '''\n",
    "#         x - [d, T]\n",
    "#         '''\n",
    "        \n",
    "#         x = torch.sigmoid(self.linear1(x.T))\n",
    "#         x = self.linear2(x).T\n",
    "        \n",
    "#         return x"
   ]
  },
  {
   "cell_type": "code",
   "execution_count": 155,
   "id": "58cae5af",
   "metadata": {},
   "outputs": [
    {
     "name": "stderr",
     "output_type": "stream",
     "text": [
      " 14%|████████████████▌                                                                                                      | 13923/100000 [00:06<00:37, 2265.33it/s]\n"
     ]
    }
   ],
   "source": [
    "f_θ = f_theta(1, hidden_dim=10)\n",
    "batch_size = 1000\n",
    "epochs = 100000\n",
    "tol = 1e-2\n",
    "losses = []\n",
    "\n",
    "opt = optim.Adam(f_θ.parameters(), lr=1e-3, weight_decay=1)\n",
    "\n",
    "for epoch in tqdm(range(epochs)):\n",
    "    \n",
    "    X = torch.randn(1, batch_size)\n",
    "    Y = np.tanh(X)\n",
    "    \n",
    "    Y_pred = f_θ(X)\n",
    "    loss = torch.abs(Y-Y_pred).mean()\n",
    "    loss.backward()\n",
    "    opt.step()\n",
    "    \n",
    "    losses.append(loss.item())\n",
    "    \n",
    "    if loss < tol:\n",
    "        break"
   ]
  },
  {
   "cell_type": "code",
   "execution_count": 156,
   "id": "2024506b",
   "metadata": {},
   "outputs": [
    {
     "data": {
      "text/plain": [
       "torch.Size([1, 1000])"
      ]
     },
     "execution_count": 156,
     "metadata": {},
     "output_type": "execute_result"
    }
   ],
   "source": [
    "X.shape"
   ]
  },
  {
   "cell_type": "code",
   "execution_count": 157,
   "id": "78bf6d63",
   "metadata": {},
   "outputs": [
    {
     "data": {
      "text/plain": [
       "[<matplotlib.lines.Line2D at 0x7f6c34afc970>]"
      ]
     },
     "execution_count": 157,
     "metadata": {},
     "output_type": "execute_result"
    },
    {
     "data": {
      "image/png": "[encoded data removed]",
      "text/plain": [
       "<Figure size 432x288 with 1 Axes>"
      ]
     },
     "metadata": {
      "needs_background": "light"
     },
     "output_type": "display_data"
    }
   ],
   "source": [
    "plt.plot(losses)"
   ]
  },
  {
   "cell_type": "code",
   "execution_count": 158,
   "id": "dc184186",
   "metadata": {},
   "outputs": [
    {
     "data": {
      "image/png": "[encoded data removed]",
      "text/plain": [
       "<Figure size 432x288 with 1 Axes>"
      ]
     },
     "metadata": {
      "needs_background": "light"
     },
     "output_type": "display_data"
    }
   ],
   "source": [
    "X = torch.randn(1, batch_size)\n",
    "Y = np.tanh(X)\n",
    "Y_pred = f_θ(X)\n",
    "\n",
    "plt.scatter(X, Y, label='tanh')\n",
    "plt.scatter(X, Y_pred.detach(), label='approximated')\n",
    "plt.legend()\n",
    "\n",
    "plt.show()"
   ]
  }
 ],
 "metadata": {
  "kernelspec": {
   "display_name": "Python 3 (ipykernel)",
   "language": "python",
   "name": "python3"
  },
  "language_info": {
   "codemirror_mode": {
    "name": "ipython",
    "version": 3
   },
   "file_extension": ".py",
   "mimetype": "text/x-python",
   "name": "python",
   "nbconvert_exporter": "python",
   "pygments_lexer": "ipython3",
   "version": "3.8.13"
  }
 },
 "nbformat": 4,
 "nbformat_minor": 5
}
